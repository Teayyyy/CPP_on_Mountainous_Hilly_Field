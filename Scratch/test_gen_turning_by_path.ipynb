{
 "cells": [
  {
   "cell_type": "code",
   "execution_count": 1,
   "metadata": {
    "collapsed": true,
    "ExecuteTime": {
     "end_time": "2023-06-30T18:27:05.107506Z",
     "start_time": "2023-06-30T18:27:04.075366Z"
    }
   },
   "source": [
    "import geopandas as gpd\n",
    "from shapely import LineString, Polygon, Point\n",
    "import shapely\n",
    "from shapely import ops\n",
    "import matplotlib.pyplot as plt\n",
    "from CPP_Planner import CPP_Algorithms, CPP_Planner_Kit\n",
    "from shapely import affinity\n",
    "from skimage.measure import approximate_polygon\n",
    "import math\n",
    "import warnings\n",
    "\n",
    "# warnings.filterwarnings('ignore')\n",
    "all_land = gpd.read_file('test_Load_Shp/shp_file/村1地_全区.shp')\n",
    "# 这里要控制精度\n",
    "all_land.geometry = all_land.geometry.apply(shapely.set_precision, grid_size=0.05)\n",
    "# 对当前 all_land 添加一个 mean_slope 字段 [3.37, 7.38, 6.07, 3.94, 6.53, 7.46, 7.62]\n",
    "all_land['mean_slope'] = [3.37, 7.38, 6.07, 3.94, 6.53, 7.46, 7.62]\n",
    "\n",
    "all_land"
   ],
   "outputs": []
  },
  {
   "cell_type": "code",
   "execution_count": 2,
   "source": [
    "single_land = CPP_Planner_Kit.get_single_shp(all_land, 6)\n",
    "# single_land.plot()\n",
    "split_polygon = CPP_Planner_Kit.split_polygon_by_largest_area(single_land.geometry.iloc[0], tolerance=0.05)\n",
    "_, ax = plt.subplots()\n",
    "for polygon in split_polygon:\n",
    "    ax.plot(*polygon.exterior.xy)"
   ],
   "metadata": {
    "collapsed": false,
    "ExecuteTime": {
     "end_time": "2023-06-30T18:27:05.205825Z",
     "start_time": "2023-06-30T18:27:05.110588Z"
    }
   },
   "outputs": []
  },
  {
   "cell_type": "code",
   "execution_count": 3,
   "source": [
    "single_polygon = split_polygon[1]\n",
    "single_polygon_angle = CPP_Planner_Kit.get_land_MABR_angle(single_polygon)\n",
    "single_polygon = affinity.rotate(single_polygon, -single_polygon_angle, origin='centroid')\n",
    "mabr = single_polygon.minimum_rotated_rectangle\n",
    "_, ax = plt.subplots()\n",
    "ax.plot(*mabr.exterior.xy, color='b')\n",
    "ax.plot(*single_polygon.exterior.xy, color='y')"
   ],
   "metadata": {
    "collapsed": false,
    "ExecuteTime": {
     "end_time": "2023-06-30T18:27:05.317776Z",
     "start_time": "2023-06-30T18:27:05.198891Z"
    }
   },
   "outputs": []
  },
  {
   "cell_type": "code",
   "execution_count": 31,
   "source": [
    "corrected_swath_width = CPP_Planner_Kit.get_corrected_swath_width(swath_width=1.45, slope=6)\n",
    "headland_width, theta = CPP_Planner_Kit.calc_headland_width(turning_radius=4.5, swath_width=corrected_swath_width,\n",
    "                                                            vehicle_length=6.3\n",
    "                                                            , vehicle_width=1.9)\n",
    "print(headland_width)\n",
    "path, headland = CPP_Algorithms.scanline_algorithm_single_with_headland(\n",
    "    land=gpd.GeoDataFrame(geometry=[single_polygon]), step_size=corrected_swath_width, along_long_edge=False,\n",
    "    headland='right', head_land_width=headland_width\n",
    ")\n",
    "# 显示\n",
    "_, ax = plt.subplots()\n",
    "ax.plot(*single_polygon.exterior.xy, 'b')\n",
    "path.plot(ax=ax, color='y')\n",
    "headland.plot(ax=ax, color='gray')\n",
    "print(headland)"
   ],
   "metadata": {
    "collapsed": false,
    "ExecuteTime": {
     "end_time": "2023-06-30T18:44:56.000260Z",
     "start_time": "2023-06-30T18:44:55.921840Z"
    }
   },
   "outputs": []
  },
  {
   "cell_type": "markdown",
   "source": [
    "####  开始生成转向路径"
   ],
   "metadata": {
    "collapsed": false
   }
  },
  {
   "cell_type": "code",
   "execution_count": 5,
   "source": [
    "path\n",
    "# 由于是从下往上生成的，因此可以直接从第二根路径开始计算"
   ],
   "metadata": {
    "collapsed": false,
    "ExecuteTime": {
     "end_time": "2023-06-30T18:27:05.409414Z",
     "start_time": "2023-06-30T18:27:05.407075Z"
    }
   },
   "outputs": []
  },
  {
   "cell_type": "code",
   "execution_count": 6,
   "source": [
    "paths = path.geometry.tolist()\n",
    "print(type(paths))"
   ],
   "metadata": {
    "collapsed": false,
    "ExecuteTime": {
     "end_time": "2023-06-30T18:27:05.412648Z",
     "start_time": "2023-06-30T18:27:05.410508Z"
    }
   },
   "outputs": []
  },
  {
   "cell_type": "code",
   "execution_count": 7,
   "source": [
    "from CPP_Planner import CPP_Planner_TurningRail_Maker as maker\n",
    "# 生成 S 路径模版\n",
    "basic_S_curve = maker.gen_S_shape_curve(turning_radius=4.5, degree_step=0.2, vehicle_length=6.3, vehicle_width=1.9,\n",
    "                                        swath_width=corrected_swath_width, buffer=0.3)\n",
    "basic_S_curve.plot(color='y')"
   ],
   "metadata": {
    "collapsed": false,
    "ExecuteTime": {
     "end_time": "2023-06-30T18:27:05.499192Z",
     "start_time": "2023-06-30T18:27:05.416920Z"
    }
   },
   "outputs": []
  },
  {
   "cell_type": "code",
   "execution_count": 8,
   "source": [
    "a = paths[0].coords[0]\n",
    "b = paths[0].coords[1]\n",
    "[a, b]"
   ],
   "metadata": {
    "collapsed": false,
    "ExecuteTime": {
     "end_time": "2023-06-30T18:27:05.526565Z",
     "start_time": "2023-06-30T18:27:05.489842Z"
    }
   },
   "outputs": []
  },
  {
   "cell_type": "code",
   "execution_count": 34,
   "source": [
    "turning_curves = []\n",
    "backward_moves = []\n",
    "forward_moves = []\n",
    "\n",
    "# 默认从第二根路径开始计算\n",
    "for i in range(1, len(paths)):\n",
    "    temp_path = paths[i]\n",
    "    pre_path = paths[i-1]\n",
    "    temp_end_point = temp_path.coords[0]\n",
    "    # 地头行驶路线\n",
    "    temp_forward_line = LineString((temp_end_point, (temp_end_point[0] + headland_width, temp_end_point[1])))\n",
    "    # 转向 S 路线\n",
    "    # TODO: 将S曲线合并了\n",
    "    temp_S_line_1 = affinity.translate(basic_S_curve.geometry[0], xoff=temp_forward_line.coords[-1][0], yoff=temp_forward_line.coords[-1][1], zoff=0)\n",
    "    temp_S_line_2 = affinity.translate(basic_S_curve.geometry[1], xoff=temp_forward_line.coords[-1][0], yoff=temp_forward_line.coords[-1][1], zoff=0)\n",
    "    # 倒车线\n",
    "    temp_backward_line = LineString((temp_S_line_2.coords[0], pre_path.coords[1]))\n",
    "    print(temp_backward_line)\n",
    "    forward_moves.append(temp_forward_line)\n",
    "    turning_curves.append(temp_S_line_1)\n",
    "    turning_curves.append(temp_S_line_2)\n",
    "    backward_moves.append(temp_backward_line)\n",
    "\n",
    "# 测试显示\n",
    "_, ax = plt.subplots()\n",
    "# ax.plot(*single_polygon.exterior.xy, 'b')\n",
    "path.plot(ax=ax, color='y', linewidth=1.2)\n",
    "for line in forward_moves:\n",
    "    ax.plot(*line.xy, 'orange', linewidth=1)\n",
    "for line in turning_curves:\n",
    "    ax.plot(*line.xy, 'b--', linewidth=0.8)\n",
    "for line in backward_moves:\n",
    "    ax.plot(*line.xy, 'b:', linewidth=0.8)\n",
    "ax.set_aspect('equal')"
   ],
   "metadata": {
    "collapsed": false,
    "ExecuteTime": {
     "end_time": "2023-06-30T19:10:00.307786Z",
     "start_time": "2023-06-30T19:10:00.215092Z"
    }
   },
   "outputs": []
  },
  {
   "cell_type": "code",
   "execution_count": 10,
   "source": [
    "f_m, t_c, b_m = maker.gen_S_turning_paths_in_polygon(path, 0, 4.5, 6.3, 1.9, 1.45, 9, 0.3)\n",
    "print(type(f_m))"
   ],
   "metadata": {
    "collapsed": false,
    "ExecuteTime": {
     "end_time": "2023-06-30T18:27:06.102760Z",
     "start_time": "2023-06-30T18:27:05.588809Z"
    }
   },
   "outputs": []
  },
  {
   "cell_type": "code",
   "execution_count": null,
   "source": [
    "_, ax = plt.subplots()\n",
    "ax.plot(*single_polygon.exterior.xy, 'b')\n",
    "path.plot(ax=ax, color='y', linewidth=0.8)\n",
    "f_m.plot(ax=ax, color='orange', linewidth=0.8)\n",
    "t_c.plot(ax=ax, color='g', linewidth=0.8)\n",
    "b_m.plot(ax=ax, color='black', linewidth=0.8)"
   ],
   "metadata": {
    "collapsed": false
   },
   "outputs": []
  },
  {
   "cell_type": "code",
   "execution_count": null,
   "source": [],
   "metadata": {
    "collapsed": false
   },
   "outputs": []
  }
 ],
 "metadata": {
  "kernelspec": {
   "display_name": "Python 3",
   "language": "python",
   "name": "python3"
  },
  "language_info": {
   "codemirror_mode": {
    "name": "ipython",
    "version": 2
   },
   "file_extension": ".py",
   "mimetype": "text/x-python",
   "name": "python",
   "nbconvert_exporter": "python",
   "pygments_lexer": "ipython2",
   "version": "2.7.6"
  }
 },
 "nbformat": 4,
 "nbformat_minor": 0
}
