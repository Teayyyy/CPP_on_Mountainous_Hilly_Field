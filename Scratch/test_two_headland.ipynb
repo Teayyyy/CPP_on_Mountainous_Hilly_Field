{
 "cells": [
  {
   "cell_type": "markdown",
   "source": [
    "## 在规划的时候，生成两个地头，耕作的方式变为“往复式”"
   ],
   "metadata": {
    "collapsed": false
   }
  },
  {
   "cell_type": "code",
   "execution_count": 1,
   "source": [
    "import geopandas as gpd\n",
    "import numpy as np\n",
    "from shapely import LineString, Polygon, Point\n",
    "import shapely\n",
    "from shapely import ops\n",
    "import matplotlib.pyplot as plt\n",
    "from CPP_Planner import CPP_Algorithms, CPP_Planner_Kit, CPP_Planner_TurningRail_Maker\n",
    "from shapely import affinity\n",
    "from skimage.measure import approximate_polygon\n",
    "import math\n",
    "import warnings\n",
    "\n",
    "warnings.filterwarnings('ignore')\n",
    "all_land = gpd.read_file('test_Load_Shp/shp_file/村1地_全区.shp')\n",
    "# 这里要控制精度\n",
    "all_land.geometry = all_land.geometry.apply(shapely.set_precision, grid_size=0.05)\n",
    "# 对当前 all_land 添加一个 mean_slope 字段 [3.37, 7.38, 6.07, 3.94, 6.53, 7.46, 7.62]\n",
    "all_land['mean_slope'] = [3.37, 7.38, 6.07, 3.94, 6.53, 7.46, 7.62]\n",
    "\n",
    "all_land"
   ],
   "metadata": {
    "collapsed": false,
    "ExecuteTime": {
     "end_time": "2023-06-30T18:47:05.033880Z",
     "start_time": "2023-06-30T18:47:04.046289Z"
    }
   },
   "outputs": []
  },
  {
   "cell_type": "code",
   "execution_count": 2,
   "source": [
    "single_land = CPP_Planner_Kit.get_single_shp(all_land, 6)\n",
    "# single_land.plot()\n",
    "split_polygon = CPP_Planner_Kit.split_polygon_by_largest_area(single_land.geometry.iloc[0], tolerance=0.05)\n",
    "_, ax = plt.subplots()\n",
    "for polygon in split_polygon:\n",
    "    ax.plot(*polygon.exterior.xy)"
   ],
   "metadata": {
    "collapsed": false,
    "ExecuteTime": {
     "end_time": "2023-06-30T18:47:05.129423Z",
     "start_time": "2023-06-30T18:47:05.035911Z"
    }
   },
   "outputs": []
  },
  {
   "cell_type": "code",
   "execution_count": 3,
   "source": [
    "single_polygon = split_polygon[1]\n",
    "single_polygon_angle = CPP_Planner_Kit.get_land_MABR_angle(single_polygon)\n",
    "single_polygon = affinity.rotate(single_polygon, -single_polygon_angle, origin='centroid')\n",
    "mabr = single_polygon.minimum_rotated_rectangle\n",
    "_, ax = plt.subplots()\n",
    "ax.plot(*mabr.exterior.xy, color='b')\n",
    "ax.plot(*single_polygon.exterior.xy, color='y')"
   ],
   "metadata": {
    "collapsed": false,
    "ExecuteTime": {
     "end_time": "2023-06-30T18:47:05.232850Z",
     "start_time": "2023-06-30T18:47:05.132685Z"
    }
   },
   "outputs": []
  },
  {
   "cell_type": "markdown",
   "source": [
    "#### 开始尝试 一块耕地两个地头的路径规划"
   ],
   "metadata": {
    "collapsed": false
   }
  },
  {
   "cell_type": "code",
   "execution_count": 4,
   "source": [
    "# 输入的基础参数\n",
    "swath_width = 1.45\n",
    "vehicle_length = 6.3\n",
    "vehicle_width = 1.9\n",
    "turning_radius = 4.5\n",
    "all_land_slope = [3.37, 7.38, 6.07, 3.94, 6.53, 7.46, 7.62]\n",
    "headland_width, theta = CPP_Planner_Kit.calc_headland_width(turning_radius, swath_width, vehicle_length, vehicle_width,\n",
    "                                                            buffer=0.3, show_info=True)"
   ],
   "metadata": {
    "collapsed": false,
    "ExecuteTime": {
     "end_time": "2023-06-30T18:47:05.236478Z",
     "start_time": "2023-06-30T18:47:05.233840Z"
    }
   },
   "outputs": []
  },
  {
   "cell_type": "code",
   "execution_count": 47,
   "source": [
    "corrected_swath_width = CPP_Planner_Kit.get_corrected_swath_width(swath_width, all_land_slope[6])\n",
    "\n",
    "path, two_headland = CPP_Algorithms.scanline_algorithm_single_with_headland(\n",
    "    gpd.GeoDataFrame(geometry=[single_polygon], crs=all_land.crs), corrected_swath_width, along_long_edge=False,\n",
    "    headland='both',\n",
    "    head_land_width=headland_width\n",
    ")\n",
    "_, ax = plt.subplots()\n",
    "ax.plot(*single_polygon.exterior.xy, 'b')\n",
    "path.plot(ax=ax, color='y')\n",
    "two_headland.plot(ax=ax, color='gray')"
   ],
   "metadata": {
    "collapsed": false,
    "ExecuteTime": {
     "end_time": "2023-06-30T19:10:56.563396Z",
     "start_time": "2023-06-30T19:10:56.477695Z"
    }
   },
   "outputs": []
  },
  {
   "cell_type": "code",
   "execution_count": 6,
   "source": [
    "multi_poly = two_headland.geometry[0]\n",
    "print(type(multi_poly))\n",
    "for poly in multi_poly.geoms:\n",
    "    print(type(poly))\n",
    "    print(poly.area)"
   ],
   "metadata": {
    "collapsed": false,
    "ExecuteTime": {
     "end_time": "2023-06-30T18:47:05.327126Z",
     "start_time": "2023-06-30T18:47:05.322730Z"
    }
   },
   "outputs": []
  },
  {
   "cell_type": "markdown",
   "source": [
    "#### 测试：通过往复式、转圈的方式访问各个耕作路径\n",
    "* 首先将问题抽象：\n",
    "    *   分出转向区域的地头\n",
    "    *   考虑每一条耕作路径的进出方向安排"
   ],
   "metadata": {
    "collapsed": false
   }
  },
  {
   "cell_type": "code",
   "execution_count": 7,
   "source": [
    "len(path.geometry)"
   ],
   "metadata": {
    "collapsed": false,
    "ExecuteTime": {
     "end_time": "2023-06-30T18:47:05.335075Z",
     "start_time": "2023-06-30T18:47:05.326748Z"
    }
   },
   "outputs": []
  },
  {
   "cell_type": "code",
   "execution_count": 8,
   "source": [
    "CPP_Planner_TurningRail_Maker.calc_min_swath_jump(4.5, 1.45)"
   ],
   "metadata": {
    "collapsed": false,
    "ExecuteTime": {
     "end_time": "2023-06-30T18:47:05.335305Z",
     "start_time": "2023-06-30T18:47:05.329869Z"
    }
   },
   "outputs": []
  },
  {
   "cell_type": "code",
   "execution_count": 9,
   "source": [
    "CPP_Planner_TurningRail_Maker.calc_flat_turn_headland_width(4.5, 6.3, 1.9)"
   ],
   "metadata": {
    "collapsed": false,
    "ExecuteTime": {
     "end_time": "2023-06-30T18:47:05.335396Z",
     "start_time": "2023-06-30T18:47:05.333471Z"
    }
   },
   "outputs": []
  },
  {
   "cell_type": "code",
   "execution_count": 10,
   "source": [
    "a = (turning_radius + vehicle_width / 2) ** 2\n",
    "print(a)\n",
    "b = (vehicle_length / 2) ** 2\n",
    "print(b)"
   ],
   "metadata": {
    "collapsed": false,
    "ExecuteTime": {
     "end_time": "2023-06-30T18:47:05.340415Z",
     "start_time": "2023-06-30T18:47:05.336504Z"
    }
   },
   "outputs": []
  },
  {
   "cell_type": "markdown",
   "source": [
    "#### 计算当前田块内垄的耕作方式"
   ],
   "metadata": {
    "collapsed": false
   }
  },
  {
   "cell_type": "code",
   "execution_count": 11,
   "source": [
    "def test_gen_path_tillage_type(t_path: gpd.GeoDataFrame, t_turning_radius: float, t_vehicle_length: float,\n",
    "                               t_vehicle_width: float, t_swath_width: float):\n",
    "    # 由于田块内的耕作垄是等距离的，直接抽象成点集合（横向从左到右，垄是竖立的）\n",
    "    # 有三种情况：0 使用鱼尾转向，1 向右间隔 最近可达垄+1垄 耕作，2 向左最近可达垄耕作，反向：3 4\n",
    "    n = len(t_path)\n",
    "    # n = 16\n",
    "    swaths = [0 for i in range(n)]\n",
    "    min_jump_swaths = int(CPP_Planner_TurningRail_Maker.calc_min_swath_jump(t_turning_radius, t_swath_width))\n",
    "    # 使用 “平滑转向” 下，最大一次可以完整耕作的垄数（由于是 0 开始，减一）\n",
    "    max_length = int((min_jump_swaths + 1) * 2 - 1)\n",
    "    iteration = int(n // max_length)\n",
    "    print(iteration)\n",
    "    if n % max_length != 0:\n",
    "        iteration += 1\n",
    "    direction = False  # 当为 true 表示 向右（正向），false 向左（反向）\n",
    "    is_up = False  # 当作方向， true 表示上方 右，下方 左，false 表示，下方 右，上方左  为了将方向连接起来\n",
    "    for i in range(iteration):\n",
    "        is_up ^= True\n",
    "        offset = i * max_length\n",
    "        ind = 0\n",
    "        run = True\n",
    "        # for j in range(max_length):\n",
    "        while run:\n",
    "            direction ^= True\n",
    "            if direction:\n",
    "                if offset + ind + min_jump_swaths < n - 1:\n",
    "                    if is_up:\n",
    "                        swaths[offset + ind] = 1\n",
    "                    else:\n",
    "                        swaths[offset + ind] = 3\n",
    "                    ind = ind + min_jump_swaths + 1\n",
    "                else:\n",
    "                    run = False\n",
    "                pass\n",
    "            else:  # direction == False\n",
    "                if swaths[offset + ind - min_jump_swaths] == 0:  # direction == False\n",
    "                    if is_up:\n",
    "                        swaths[offset + ind] = 2\n",
    "                    else:\n",
    "                        swaths[offset + ind] = 4\n",
    "                    ind = ind - min_jump_swaths\n",
    "                else:\n",
    "                    run = False\n",
    "                pass\n",
    "    print(swaths)\n",
    "    pass\n",
    "\n",
    "\n",
    "test_gen_path_tillage_type(path, turning_radius, vehicle_length, vehicle_width, swath_width)"
   ],
   "metadata": {
    "collapsed": false,
    "ExecuteTime": {
     "end_time": "2023-06-30T18:47:05.343800Z",
     "start_time": "2023-06-30T18:47:05.342074Z"
    }
   },
   "outputs": []
  },
  {
   "cell_type": "markdown",
   "source": [
    "### 先解决 套行法 的部分"
   ],
   "metadata": {
    "collapsed": false
   }
  },
  {
   "cell_type": "code",
   "execution_count": 12,
   "source": [
    "# 绘图，模拟生成一段90度圆弧 + 直线 + 90度圆弧\n",
    "# 两条线之间间隔 10.15\n",
    "line_1 = LineString(((0, 0), (20, 0)))\n",
    "line_2 = LineString(((0, -10.15), (20, -10.15)))\n",
    "line_3 = LineString(((0, -20.3), (20, -20.3)))\n",
    "_, ax = plt.subplots()\n",
    "ax.plot(*line_1.xy, color='black')\n",
    "ax.plot(*line_2.xy, color='black')\n",
    "ax.plot(*line_3.xy, color='black')\n",
    "ax.set_aspect('equal')"
   ],
   "metadata": {
    "collapsed": false,
    "ExecuteTime": {
     "end_time": "2023-06-30T18:47:05.409663Z",
     "start_time": "2023-06-30T18:47:05.345646Z"
    }
   },
   "outputs": []
  },
  {
   "cell_type": "code",
   "execution_count": 29,
   "source": [
    "from math import pi\n",
    "# 在 “右侧” 制作线，如果是放到 gen_path_tillage_method 中则是 “上侧”\n",
    "curve_1 = CPP_Planner_TurningRail_Maker.gen_single_curve(\n",
    "    (line_1.coords[-1][0], line_1.coords[-1][1] - turning_radius), turning_radius, 0.1, 0, pi / 2)\n",
    "padding_1 = LineString(\n",
    "    ((line_1.coords[-1][0] + turning_radius, line_1.coords[-1][1] - turning_radius)\n",
    "    , (line_1.coords[-1][0] + turning_radius, line_2.coords[-1][1] + turning_radius))\n",
    ")\n",
    "curve_2 = CPP_Planner_TurningRail_Maker.gen_single_curve(\n",
    "    (line_2.coords[-1][0], line_2.coords[-1][1] + turning_radius), turning_radius, 0.1,\n",
    "    -pi / 2, 0\n",
    ")\n",
    "\n",
    "curve_3 = CPP_Planner_TurningRail_Maker.gen_single_curve(\n",
    "    (line_2.coords[0][0], line_2.coords[0][1] - turning_radius), turning_radius, 0.1,\n",
    "    pi/2, pi\n",
    ")\n",
    "padding_2 = LineString(\n",
    "    ((line_2.coords[0][0] - turning_radius, line_2.coords[0][1] - turning_radius),\n",
    "     (line_2.coords[0][0] - turning_radius, line_3.coords[0][1] + turning_radius))\n",
    ")\n",
    "curve_4 = CPP_Planner_TurningRail_Maker.gen_single_curve(\n",
    "    (line_2.coords[0][0], line_3.coords[0][1] + turning_radius), turning_radius, 0.1,\n",
    "    pi, pi * 3 / 2\n",
    ")\n",
    "_, ax = plt.subplots()\n",
    "ax.plot(*line_1.xy, color='b')\n",
    "ax.plot(*line_2.xy, color='b')\n",
    "ax.plot(*line_3.xy, color='b')\n",
    "ax.plot(*curve_1.xy, color='orange')\n",
    "ax.plot(*curve_2.xy, color='orange')\n",
    "ax.plot(*curve_3.xy, color='orange')\n",
    "ax.plot(*curve_4.xy, color='orange')\n",
    "ax.plot(*padding_1.xy, color='green')\n",
    "ax.plot(*padding_2.xy, color='green')\n",
    "ax.set_aspect('equal')"
   ],
   "metadata": {
    "collapsed": false,
    "ExecuteTime": {
     "end_time": "2023-06-30T18:51:05.312439Z",
     "start_time": "2023-06-30T18:51:05.252132Z"
    }
   },
   "outputs": []
  },
  {
   "cell_type": "code",
   "execution_count": 14,
   "source": [
    "line_1.coords[-1][0] + turning_radius"
   ],
   "metadata": {
    "collapsed": false,
    "ExecuteTime": {
     "end_time": "2023-06-30T18:47:05.496490Z",
     "start_time": "2023-06-30T18:47:05.494209Z"
    }
   },
   "outputs": []
  },
  {
   "cell_type": "code",
   "execution_count": 30,
   "source": [
    "turning_paths = CPP_Planner_TurningRail_Maker.gen_path_flat_turn_tail_turn(path, turning_radius, vehicle_length, vehicle_width, swath_width, (0, 0), 0)\n",
    "print(turning_paths)"
   ],
   "metadata": {
    "collapsed": false,
    "ExecuteTime": {
     "end_time": "2023-06-30T18:58:51.978523Z",
     "start_time": "2023-06-30T18:58:51.920131Z"
    }
   },
   "outputs": []
  },
  {
   "cell_type": "code",
   "execution_count": 31,
   "source": [
    "_, ax = plt.subplots()\n",
    "path.plot(ax=ax, color='y')\n",
    "for line in turning_paths[0]:\n",
    "    line.plot(ax=ax, color='b')"
   ],
   "metadata": {
    "collapsed": false,
    "ExecuteTime": {
     "end_time": "2023-06-30T18:58:52.781076Z",
     "start_time": "2023-06-30T18:58:52.564596Z"
    }
   },
   "outputs": []
  },
  {
   "cell_type": "code",
   "execution_count": 32,
   "source": [
    "# 测试生成一个 弓 形的路径，标准路径，路径的上侧圆弧起点标准化到 （0， 0），分为左向和右向\n",
    "bow1 = CPP_Planner_TurningRail_Maker.gen_bow_shape_curve(turning_radius, 7, 1.45, 'right', 1)\n",
    "_, ax = plt.subplots()\n",
    "bow1.plot(ax=ax, color='b')\n",
    "ax.set_aspect('equal')"
   ],
   "metadata": {
    "collapsed": false,
    "ExecuteTime": {
     "end_time": "2023-06-30T18:58:53.477009Z",
     "start_time": "2023-06-30T18:58:53.432293Z"
    }
   },
   "outputs": []
  },
  {
   "cell_type": "code",
   "execution_count": 33,
   "source": [
    "bow2 = CPP_Planner_TurningRail_Maker.gen_bow_shape_curve(turning_radius, 7, 1.45, 'left', 0)\n",
    "_, ax = plt.subplots()\n",
    "bow2.plot(ax=ax, color='b')\n",
    "ax.set_aspect('equal')"
   ],
   "metadata": {
    "collapsed": false,
    "ExecuteTime": {
     "end_time": "2023-06-30T18:58:54.117269Z",
     "start_time": "2023-06-30T18:58:54.070039Z"
    }
   },
   "outputs": []
  },
  {
   "cell_type": "code",
   "execution_count": 34,
   "source": [
    "list(path.geometry)"
   ],
   "metadata": {
    "collapsed": false,
    "ExecuteTime": {
     "end_time": "2023-06-30T18:58:54.740919Z",
     "start_time": "2023-06-30T18:58:54.737040Z"
    }
   },
   "outputs": []
  },
  {
   "cell_type": "markdown",
   "source": [
    "### 生成 “鱼尾” 转向"
   ],
   "metadata": {
    "collapsed": false
   }
  },
  {
   "cell_type": "code",
   "execution_count": 44,
   "source": [
    "# 假设 仍然标准化到 原点\n",
    "curve_1 = CPP_Planner_TurningRail_Maker.gen_single_curve((0, -turning_radius), turning_radius, 0.1, 0, pi / 2)\n",
    "padding_1 = LineString((\n",
    "    (turning_radius, -turning_radius), (turning_radius, -swath_width + turning_radius)\n",
    "))\n",
    "curve_2 = CPP_Planner_TurningRail_Maker.gen_single_curve((0, turning_radius - swath_width), turning_radius,0.1 , -pi / 2, 0)\n",
    "fitail = CPP_Planner_TurningRail_Maker.gen_fishtail_shape_curve(4.5, 1.45, 'left', 0.1)\n",
    "fitail = fitail.translate(xoff=-20, yoff=-1.45)\n",
    "swath_1 = LineString(((-20, 0), (0, 0)))\n",
    "swath_2 = LineString(((-20, -1.45), (0, -1.45)))\n",
    "swath_3 = LineString(((-20, -2.9), (0, -2.9)))\n",
    "_, ax = plt.subplots()\n",
    "ax.plot(*swath_1.xy, c='b')\n",
    "ax.plot(*swath_2.xy, c='b')\n",
    "ax.plot(*swath_3.xy, c='b')\n",
    "fitail.plot(ax=ax, color='orange')\n",
    "ax.plot(*curve_1.xy, 'orange')\n",
    "ax.plot(*padding_1.xy, 'orange')\n",
    "ax.plot(*curve_2.xy, 'orange')\n",
    "ax.set_aspect('equal')"
   ],
   "metadata": {
    "collapsed": false,
    "ExecuteTime": {
     "end_time": "2023-06-30T19:05:46.739648Z",
     "start_time": "2023-06-30T19:05:46.670127Z"
    }
   },
   "outputs": []
  },
  {
   "cell_type": "code",
   "execution_count": 36,
   "source": [
    "# 反向 鱼尾 （左侧）\n",
    "curve_1 = CPP_Planner_TurningRail_Maker.gen_single_curve((0, -turning_radius), turning_radius, 0.1, pi/2, pi)\n",
    "padding_2 = LineString((\n",
    "    (-turning_radius, -turning_radius), (-turning_radius, -swath_width + turning_radius)\n",
    "))\n",
    "curve_2 = CPP_Planner_TurningRail_Maker.gen_single_curve((0, -swath_width + turning_radius), turning_radius, 0.1, pi, pi * 3/2)\n",
    "_, ax = plt.subplots()\n",
    "ax.plot(*curve_1.xy, 'orange')\n",
    "ax.plot(*padding_2.xy, 'g')\n",
    "ax.plot(*curve_2.xy, 'orange')\n",
    "ax.set_aspect('equal')"
   ],
   "metadata": {
    "collapsed": false,
    "ExecuteTime": {
     "end_time": "2023-06-30T18:58:57.692541Z",
     "start_time": "2023-06-30T18:58:57.640693Z"
    }
   },
   "outputs": []
  },
  {
   "cell_type": "code",
   "execution_count": 45,
   "source": [
    "# 测试：\n",
    "fishtail_1 = CPP_Planner_TurningRail_Maker.gen_fishtail_shape_curve(turning_radius, swath_width, 'right')\n",
    "fishtail_2 = CPP_Planner_TurningRail_Maker.gen_fishtail_shape_curve(turning_radius, swath_width, 'left')\n",
    "ax = plt.subplot(121)\n",
    "fishtail_1.plot(ax=ax)\n",
    "ax = plt.subplot(122)\n",
    "fishtail_2.plot(ax=ax)"
   ],
   "metadata": {
    "collapsed": false,
    "ExecuteTime": {
     "end_time": "2023-06-30T19:06:37.377221Z",
     "start_time": "2023-06-30T19:06:37.243150Z"
    }
   },
   "outputs": []
  },
  {
   "cell_type": "code",
   "execution_count": 46,
   "source": [
    "# 测试左右交替生成fishtail\n",
    "line_1 = LineString(((0, 0), (20, 0)))\n",
    "line_2 = LineString(((0, -1.45), (20, -1.45)))\n",
    "line_3 = LineString(((0, -2.9), (20, -2.9)))\n",
    "# line_gdf = gpd.GeoDataFrame(geometry=[line_3, line_2, line_1])\n",
    "line_gdf = path\n",
    "fishtail_1 = CPP_Planner_TurningRail_Maker.gen_fishtail_shape_curve(turning_radius, swath_width, 'right')\n",
    "fishtail_2 = CPP_Planner_TurningRail_Maker.gen_fishtail_shape_curve(turning_radius, swath_width, 'left')\n",
    "direction = False  # true right, false left\n",
    "fishtails = []\n",
    "for i in range(len(line_gdf) - 1):\n",
    "    line = line_gdf.geometry.iloc[i]\n",
    "    line_2 = line_gdf.geometry.iloc[i + 1]\n",
    "    direction ^= True\n",
    "    if direction:\n",
    "        right_point = line.coords[0] if line.coords[0][0] > line.coords[-1][0] else line.coords[-1]\n",
    "        right_point_2 = line_2.coords[0] if line_2.coords[0][0] > line_2.coords[-1][0] else line_2.coords[-1]\n",
    "        # 因为 path 是从上到下扫描的，所以这里要留意坐标的位置，加一个 swath_width\n",
    "\n",
    "        if right_point[0] > right_point_2[0]:\n",
    "            gap = right_point[0] - right_point_2[0]\n",
    "            compensate_line = LineString((right_point_2, (right_point_2[0] + gap, right_point_2[1])))\n",
    "            temp_fishtails = fishtail_1.translate(xoff=right_point[0], yoff=right_point[1] + swath_width)\n",
    "            pass\n",
    "        else:  # right_point[0] < right_point_2[0]\n",
    "            gap = right_point_2[0] - right_point[0]\n",
    "            compensate_line = LineString((right_point, (right_point[0] + gap, right_point_2[1])))\n",
    "            temp_fishtails = fishtail_1.translate(xoff=right_point_2[0], yoff=right_point[1] + swath_width)\n",
    "            pass\n",
    "        # temp_fishtails = fishtail_1.translate(xoff=right_point[0], yoff=right_point[1] + swath_width)\n",
    "        fishtails.append(temp_fishtails)\n",
    "        fishtails.append(gpd.GeoDataFrame(geometry=[compensate_line]))\n",
    "        pass\n",
    "    else:  # direction == False\n",
    "        left_point = line.coords[0] if line.coords[0][0] < line.coords[-1][0] else line.coords[-1]\n",
    "        left_point_2 = line_2.coords[0] if line_2.coords[0][0] < line_2.coords[-1][0] else line_2.coords[-1]\n",
    "        if left_point[0] < left_point_2[0]:\n",
    "            gap = left_point_2[0] - left_point[0]\n",
    "            compensate_line = LineString(((left_point[0], left_point_2[1]), (left_point_2[0], left_point_2[1])))\n",
    "            temp_fishtails = fishtail_2.translate(xoff=left_point[0], yoff=left_point[1] + swath_width)\n",
    "        else:  # left_point[0] > left_point_2[0]\n",
    "            gap = left_point[0] - left_point_2[0]\n",
    "            compensate_line = LineString(((left_point_2[0], left_point[1]), (left_point[0], left_point[1])))\n",
    "            temp_fishtails = fishtail_2.translate(xoff=left_point[0], yoff=left_point[1] + swath_width)\n",
    "\n",
    "        fishtails.append(temp_fishtails)\n",
    "        fishtails.append(gpd.GeoDataFrame(geometry=[compensate_line]))\n",
    "\n",
    "        # temp_fishtails = fishtail_2.translate(xoff=left_point[0], yoff=left_point[1] + swath_width)\n",
    "        # fishtails.append(temp_fishtails)\n",
    "        pass\n",
    "\n",
    "_, ax = plt.subplots()\n",
    "line_gdf.plot(ax=ax, color='y')\n",
    "for fishtail in fishtails:\n",
    "    fishtail.plot(ax=ax, color='b')"
   ],
   "metadata": {
    "collapsed": false,
    "ExecuteTime": {
     "end_time": "2023-06-30T19:06:38.305206Z",
     "start_time": "2023-06-30T19:06:37.706018Z"
    }
   },
   "outputs": []
  },
  {
   "cell_type": "code",
   "execution_count": null,
   "source": [
    "result = CPP_Planner_TurningRail_Maker.gen_fishtail_in_paths(path, turning_radius, swath_width, 6.3, 1.9)\n",
    "_, ax = plt.subplots()\n",
    "line_gdf.plot(ax=ax, color='y')\n",
    "for line in result:\n",
    "    line.plot(ax=ax, color='b')\n",
    "# result.plot(ax=ax, color='b')"
   ],
   "metadata": {
    "collapsed": false
   },
   "outputs": []
  },
  {
   "cell_type": "code",
   "execution_count": null,
   "source": [
    "flat_turn, fishtail_turn = CPP_Planner_TurningRail_Maker.gen_path_flat_turn_tail_turn(path, turning_radius, vehicle_length, vehicle_width, swath_width)\n",
    "_, ax = plt.subplots()\n",
    "path.plot(ax=ax, color='y')\n",
    "for line in flat_turn:\n",
    "    line.plot(ax=ax, color='b')\n",
    "for line in fishtail_turn:\n",
    "    print(type(line))\n",
    "    line.plot(ax=ax, color='g')"
   ],
   "metadata": {
    "collapsed": false
   },
   "outputs": []
  },
  {
   "cell_type": "markdown",
   "source": [
    "## 要添加 centroid 和 theta，上面的不一定能跑了"
   ],
   "metadata": {
    "collapsed": false
   }
  },
  {
   "cell_type": "code",
   "execution_count": null,
   "source": [],
   "metadata": {
    "collapsed": false
   },
   "outputs": []
  }
 ],
 "metadata": {
  "kernelspec": {
   "display_name": "Python 3",
   "language": "python",
   "name": "python3"
  },
  "language_info": {
   "codemirror_mode": {
    "name": "ipython",
    "version": 2
   },
   "file_extension": ".py",
   "mimetype": "text/x-python",
   "name": "python",
   "nbconvert_exporter": "python",
   "pygments_lexer": "ipython2",
   "version": "2.7.6"
  }
 },
 "nbformat": 4,
 "nbformat_minor": 0
}
