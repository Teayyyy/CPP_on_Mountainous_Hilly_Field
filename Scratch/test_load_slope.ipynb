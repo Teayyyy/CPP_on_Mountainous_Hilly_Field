{
 "cells": [
  {
   "cell_type": "code",
   "execution_count": 41,
   "metadata": {
    "collapsed": true,
    "ExecuteTime": {
     "end_time": "2023-06-21T14:33:32.784780Z",
     "start_time": "2023-06-21T14:33:32.779748Z"
    }
   },
   "outputs": [],
   "source": [
    "import geopandas as gpd\n",
    "from shapely import LineString, Polygon, Point\n",
    "import shapely\n",
    "from shapely import ops\n",
    "import matplotlib.pyplot as plt\n",
    "from CPP_Planner import CPP_Algorithms, CPP_Planner_Kit\n",
    "from shapely import affinity\n",
    "import rasterio\n",
    "from rasterio.mask import mask\n",
    "\n",
    "import warnings\n",
    "warnings.filterwarnings('ignore')"
   ]
  },
  {
   "cell_type": "code",
   "execution_count": 42,
   "outputs": [
    {
     "name": "stdout",
     "output_type": "stream",
     "text": [
      "<class 'numpy.ndarray'>\n",
      "-3.4028230607370965e+38\n"
     ]
    },
    {
     "ename": "AttributeError",
     "evalue": "'numpy.ndarray' object has no attribute 'nodata'",
     "output_type": "error",
     "traceback": [
      "\u001B[0;31m---------------------------------------------------------------------------\u001B[0m",
      "\u001B[0;31mAttributeError\u001B[0m                            Traceback (most recent call last)",
      "Cell \u001B[0;32mIn[42], line 23\u001B[0m\n\u001B[1;32m     20\u001B[0m json_geometry \u001B[38;5;241m=\u001B[39m geometry\u001B[38;5;241m.\u001B[39m__geo_interface__\n\u001B[1;32m     22\u001B[0m \u001B[38;5;66;03m# 使用 mask 函数裁剪 TIFF 数据\u001B[39;00m\n\u001B[0;32m---> 23\u001B[0m masked_data, masked_transform \u001B[38;5;241m=\u001B[39m \u001B[43mmask\u001B[49m\u001B[43m(\u001B[49m\u001B[43mtif_data\u001B[49m\u001B[43m,\u001B[49m\u001B[43m \u001B[49m\u001B[43m[\u001B[49m\u001B[43mjson_geometry\u001B[49m\u001B[43m]\u001B[49m\u001B[43m,\u001B[49m\u001B[43m \u001B[49m\u001B[43mcrop\u001B[49m\u001B[38;5;241;43m=\u001B[39;49m\u001B[38;5;28;43;01mTrue\u001B[39;49;00m\u001B[43m)\u001B[49m\n\u001B[1;32m     25\u001B[0m \u001B[38;5;66;03m# 更新元数据\u001B[39;00m\n\u001B[1;32m     26\u001B[0m tif_meta\u001B[38;5;241m.\u001B[39mupdate({\n\u001B[1;32m     27\u001B[0m     \u001B[38;5;124m\"\u001B[39m\u001B[38;5;124mheight\u001B[39m\u001B[38;5;124m\"\u001B[39m: masked_data\u001B[38;5;241m.\u001B[39mshape[\u001B[38;5;241m1\u001B[39m],\n\u001B[1;32m     28\u001B[0m     \u001B[38;5;124m\"\u001B[39m\u001B[38;5;124mwidth\u001B[39m\u001B[38;5;124m\"\u001B[39m: masked_data\u001B[38;5;241m.\u001B[39mshape[\u001B[38;5;241m2\u001B[39m],\n\u001B[1;32m     29\u001B[0m     \u001B[38;5;124m\"\u001B[39m\u001B[38;5;124mtransform\u001B[39m\u001B[38;5;124m\"\u001B[39m: masked_transform\n\u001B[1;32m     30\u001B[0m })\n",
      "File \u001B[0;32m~/miniforge3/envs/pytorch_env/lib/python3.8/site-packages/rasterio/mask.py:173\u001B[0m, in \u001B[0;36mmask\u001B[0;34m(dataset, shapes, all_touched, invert, nodata, filled, crop, pad, pad_width, indexes)\u001B[0m\n\u001B[1;32m    112\u001B[0m \u001B[38;5;250m\u001B[39m\u001B[38;5;124;03m\"\"\"Creates a masked or filled array using input shapes.\u001B[39;00m\n\u001B[1;32m    113\u001B[0m \u001B[38;5;124;03mPixels are masked or set to nodata outside the input shapes, unless\u001B[39;00m\n\u001B[1;32m    114\u001B[0m \u001B[38;5;124;03m`invert` is `True`.\u001B[39;00m\n\u001B[0;32m   (...)\u001B[0m\n\u001B[1;32m    169\u001B[0m \u001B[38;5;124;03m            coordinate system.\u001B[39;00m\n\u001B[1;32m    170\u001B[0m \u001B[38;5;124;03m\"\"\"\u001B[39;00m\n\u001B[1;32m    172\u001B[0m \u001B[38;5;28;01mif\u001B[39;00m nodata \u001B[38;5;129;01mis\u001B[39;00m \u001B[38;5;28;01mNone\u001B[39;00m:\n\u001B[0;32m--> 173\u001B[0m     \u001B[38;5;28;01mif\u001B[39;00m \u001B[43mdataset\u001B[49m\u001B[38;5;241;43m.\u001B[39;49m\u001B[43mnodata\u001B[49m \u001B[38;5;129;01mis\u001B[39;00m \u001B[38;5;129;01mnot\u001B[39;00m \u001B[38;5;28;01mNone\u001B[39;00m:\n\u001B[1;32m    174\u001B[0m         nodata \u001B[38;5;241m=\u001B[39m dataset\u001B[38;5;241m.\u001B[39mnodata\n\u001B[1;32m    175\u001B[0m     \u001B[38;5;28;01melse\u001B[39;00m:\n",
      "\u001B[0;31mAttributeError\u001B[0m: 'numpy.ndarray' object has no attribute 'nodata'"
     ]
    }
   ],
   "source": [
    "# 使用 arcgis 能够解决\n",
    "dem_file = '/Users/outianyi/PythonProject/Coverage_Path_Planning/Scratch/test_Load_Shp/DEM_Slope/Filtered_Slope1_4m.tif'\n",
    "shp_file = 'test_Load_Shp/shp_file/村1地_全区.shp'\n",
    "\n",
    "with rasterio.open(dem_file) as src:\n",
    "    # 读取 DEM 数据和元数据\n",
    "    tif_data = src.read()\n",
    "    tif_meta = src.meta\n",
    "    nodata = src.nodata\n",
    "\n",
    "print(type(tif_data))\n",
    "print(nodata)\n",
    "\n",
    "# 读取矢量文件\n",
    "shapefile = gpd.read_file(shp_file)\n",
    "\n",
    "# 选择目标多边形\n",
    "geometry = shapefile.geometry.values[0]  # 假设你选择了第一个多边形\n",
    "\n",
    "# 将 shapefile 的几何对象转换为 GeoJSON 格式\n",
    "json_geometry = geometry.__geo_interface__\n",
    "\n",
    "# 使用 mask 函数裁剪 TIFF 数据\n",
    "masked_data, masked_transform = mask(tif_data, [json_geometry], crop=True)\n",
    "\n",
    "# 更新元数据\n",
    "tif_meta.update({\n",
    "    \"height\": masked_data.shape[1],\n",
    "    \"width\": masked_data.shape[2],\n",
    "    \"transform\": masked_transform\n",
    "})"
   ],
   "metadata": {
    "collapsed": false,
    "ExecuteTime": {
     "end_time": "2023-06-21T14:33:33.037892Z",
     "start_time": "2023-06-21T14:33:33.013244Z"
    }
   }
  },
  {
   "cell_type": "code",
   "execution_count": null,
   "outputs": [],
   "source": [],
   "metadata": {
    "collapsed": false
   }
  }
 ],
 "metadata": {
  "kernelspec": {
   "display_name": "Python 3",
   "language": "python",
   "name": "python3"
  },
  "language_info": {
   "codemirror_mode": {
    "name": "ipython",
    "version": 2
   },
   "file_extension": ".py",
   "mimetype": "text/x-python",
   "name": "python",
   "nbconvert_exporter": "python",
   "pygments_lexer": "ipython2",
   "version": "2.7.6"
  }
 },
 "nbformat": 4,
 "nbformat_minor": 0
}
