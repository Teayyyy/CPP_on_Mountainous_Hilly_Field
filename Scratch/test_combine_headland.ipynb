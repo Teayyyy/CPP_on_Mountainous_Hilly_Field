{
 "cells": [
  {
   "cell_type": "markdown",
   "source": [
    "## 测试：将单个田块内的地头区域整合，让相邻的地头连接\n",
    "#### 同时使用新的地块区域"
   ],
   "metadata": {
    "collapsed": false
   }
  },
  {
   "cell_type": "code",
   "execution_count": 2,
   "source": [
    "import geopandas as gpd\n",
    "from shapely import LineString, Polygon, Point\n",
    "import shapely\n",
    "from shapely import ops\n",
    "import matplotlib.pyplot as plt\n",
    "from CPP_Planner import CPP_Algorithms, CPP_Planner_Kit, CPP_Algorithm_Optimizers\n",
    "from shapely import affinity\n",
    "from skimage.measure import approximate_polygon\n",
    "import warnings\n",
    "import math"
   ],
   "metadata": {
    "collapsed": false,
    "ExecuteTime": {
     "end_time": "2023-07-08T06:36:00.756039Z",
     "start_time": "2023-07-08T06:35:59.908492Z"
    }
   },
   "outputs": []
  },
  {
   "cell_type": "code",
   "execution_count": 3,
   "source": [
    "all_land = gpd.read_file('test_Load_Shp/shp_file/村地和道路/村地地块区域.shp')\n",
    "# all_land.geometry = all_land.geometry.apply(shapely.set_precision, grid_size=0.05)\n",
    "# 对当前 all_land 添加一个 mean_slope 字段 [3.37, 7.38, 6.07, 3.94, 6.53, 7.46, 7.62]\n",
    "all_land['mean_slope'] = [3.37, 7.38, 6.07, 3.94, 6.53, 7.46, 7.62]\n",
    "land_angle = [3.37, 7.38, 6.07, 3.94, 6.53, 7.46, 7.62]\n",
    "all_land"
   ],
   "metadata": {
    "collapsed": false,
    "ExecuteTime": {
     "end_time": "2023-07-08T06:36:00.831702Z",
     "start_time": "2023-07-08T06:36:00.757067Z"
    }
   },
   "outputs": []
  },
  {
   "cell_type": "code",
   "execution_count": 4,
   "source": [
    "single_land = CPP_Planner_Kit.get_single_shp(all_land, 0)\n",
    "single_angle = land_angle[6]\n",
    "split_polygon = CPP_Planner_Kit.split_polygon_by_largest_area(single_land.geometry.iloc[0], tolerance=0.05)\n",
    "single_land.plot()"
   ],
   "metadata": {
    "collapsed": false,
    "ExecuteTime": {
     "end_time": "2023-07-08T06:36:00.914998Z",
     "start_time": "2023-07-08T06:36:00.831068Z"
    }
   },
   "outputs": []
  },
  {
   "cell_type": "code",
   "execution_count": 5,
   "source": [
    "_, ax = plt.subplots()\n",
    "for polygon in split_polygon:\n",
    "    ax.plot(*polygon.exterior.xy)"
   ],
   "metadata": {
    "collapsed": false,
    "ExecuteTime": {
     "end_time": "2023-07-08T06:36:00.979601Z",
     "start_time": "2023-07-08T06:36:00.908425Z"
    }
   },
   "outputs": []
  },
  {
   "cell_type": "markdown",
   "source": [
    "#### 现在将所有的分割的地块区域路径规划后的地头区域尝试整合"
   ],
   "metadata": {
    "collapsed": false
   }
  },
  {
   "cell_type": "code",
   "execution_count": 6,
   "source": [
    "swath_width = 1.45\n",
    "vehicle_length = 4.5\n",
    "vehicle_width = 1.9\n",
    "turning_radius = 4.5\n",
    "\n",
    "headland_width, vehicle_theta = CPP_Planner_Kit.calc_headland_width(turning_radius, swath_width, vehicle_length, vehicle_width, buffer=0.3, show_info=True)\n",
    "\n",
    "all_land_path = []\n",
    "all_headland = []\n",
    "for polygon in split_polygon:\n",
    "    if polygon.area > 20:\n",
    "        polygon_regen = gpd.GeoDataFrame(geometry=[polygon], crs=all_land.crs)\n",
    "        polygon_centroid = polygon_regen.centroid[0]\n",
    "        temp_path, temp_headland, theta = CPP_Algorithm_Optimizers.gen_path_with_minimum_headland_area_by_edge(\n",
    "            polygon_regen, swath_width, headland_width, headland_mode='both', return_theta=True\n",
    "        )\n",
    "        all_land_path.append(temp_path)\n",
    "        all_headland.append(temp_headland)"
   ],
   "metadata": {
    "collapsed": false,
    "ExecuteTime": {
     "end_time": "2023-07-08T06:36:01.178065Z",
     "start_time": "2023-07-08T06:36:00.983982Z"
    }
   },
   "outputs": []
  },
  {
   "cell_type": "code",
   "execution_count": 7,
   "source": [
    "# 处理 headland 里的 multipolygon 为单独的 polygon\n",
    "single_polygon_headland = []\n",
    "for item in all_headland:\n",
    "    temp_item = item.geometry[0]\n",
    "    if type(temp_item) == shapely.MultiPolygon:\n",
    "        for polygon in temp_item.geoms:\n",
    "            if polygon.area > 10:\n",
    "                single_polygon_headland.append(polygon)\n",
    "    elif type(temp_item) == shapely.Polygon:\n",
    "        if temp_item.area > 10:\n",
    "            single_polygon_headland.append(temp_item)"
   ],
   "metadata": {
    "collapsed": false,
    "ExecuteTime": {
     "end_time": "2023-07-08T06:36:01.180507Z",
     "start_time": "2023-07-08T06:36:01.177924Z"
    }
   },
   "outputs": []
  },
  {
   "cell_type": "code",
   "execution_count": 26,
   "source": [
    "# 显示\n",
    "_, ax = plt.subplots()\n",
    "for polygon in single_polygon_headland:\n",
    "    ax.plot(*polygon.exterior.xy)\n",
    "for polygon in split_polygon:\n",
    "    ax.plot(*polygon.exterior.xy, color='black', linewidth=0.3)\n",
    "for path in all_land_path:\n",
    "    path.plot(ax=ax, color='y', linewidth=0.3)\n",
    "ax.set_aspect('equal')"
   ],
   "metadata": {
    "collapsed": false,
    "ExecuteTime": {
     "end_time": "2023-07-09T06:28:26.837903Z",
     "start_time": "2023-07-09T06:28:26.734675Z"
    }
   },
   "outputs": []
  },
  {
   "cell_type": "code",
   "execution_count": 9,
   "source": [
    "# 消除过大的毛边，同时测试是否能够相交\n",
    "single_polygon_headland[0].intersects(single_polygon_headland[2].buffer(0.3))"
   ],
   "metadata": {
    "collapsed": false,
    "ExecuteTime": {
     "end_time": "2023-07-08T06:36:01.252588Z",
     "start_time": "2023-07-08T06:36:01.246792Z"
    }
   },
   "outputs": []
  },
  {
   "cell_type": "code",
   "execution_count": 10,
   "source": [
    "# plt.plot(*single_polygon_headland[2].exterior.xy)\n",
    "# 将两个区域融合\n",
    "union_headland = ops.unary_union([single_polygon_headland[0].buffer(0.1), single_polygon_headland[2].buffer(0.1)])\n",
    "print(type(union_headland))\n",
    "plt.plot(*union_headland.exterior.xy)"
   ],
   "metadata": {
    "collapsed": false,
    "ExecuteTime": {
     "end_time": "2023-07-08T06:36:01.352948Z",
     "start_time": "2023-07-08T06:36:01.252316Z"
    }
   },
   "outputs": []
  },
  {
   "cell_type": "code",
   "execution_count": 11,
   "source": [
    "smooth_headlands = union_headland.simplify(1.45)\n",
    "plt.plot(*smooth_headlands.exterior.xy)"
   ],
   "metadata": {
    "collapsed": false,
    "ExecuteTime": {
     "end_time": "2023-07-08T06:36:01.391238Z",
     "start_time": "2023-07-08T06:36:01.323372Z"
    }
   },
   "outputs": []
  },
  {
   "cell_type": "code",
   "execution_count": 12,
   "source": [
    "# 仅保留较大的多边形\n",
    "bigger_headlands = CPP_Planner_Kit.split_polygon_by_largest_area(smooth_headlands)\n",
    "bigger_headlands"
   ],
   "metadata": {
    "collapsed": false,
    "ExecuteTime": {
     "end_time": "2023-07-08T06:36:01.399427Z",
     "start_time": "2023-07-08T06:36:01.390702Z"
    }
   },
   "outputs": []
  },
  {
   "cell_type": "code",
   "execution_count": 13,
   "source": [
    "_, ax = plt.subplots()\n",
    "for polygon in bigger_headlands:\n",
    "    ax.plot(*polygon.exterior.xy)"
   ],
   "metadata": {
    "collapsed": false,
    "ExecuteTime": {
     "end_time": "2023-07-08T06:36:01.468634Z",
     "start_time": "2023-07-08T06:36:01.407182Z"
    }
   },
   "outputs": []
  },
  {
   "cell_type": "code",
   "execution_count": 14,
   "source": [
    "# 去掉面积过小的地头\n",
    "good_headlands = []\n",
    "for polygon in bigger_headlands:\n",
    "    if polygon.area > 20:\n",
    "        good_headlands.append(polygon)\n",
    "good_headlands"
   ],
   "metadata": {
    "collapsed": false,
    "ExecuteTime": {
     "end_time": "2023-07-08T06:36:01.472596Z",
     "start_time": "2023-07-08T06:36:01.468848Z"
    }
   },
   "outputs": []
  },
  {
   "cell_type": "code",
   "execution_count": 15,
   "source": [
    "_, ax = plt.subplots()\n",
    "for polygon in good_headlands:\n",
    "    ax.plot(*polygon.exterior.xy)"
   ],
   "metadata": {
    "collapsed": false,
    "ExecuteTime": {
     "end_time": "2023-07-08T06:36:01.536221Z",
     "start_time": "2023-07-08T06:36:01.474175Z"
    }
   },
   "outputs": []
  },
  {
   "cell_type": "code",
   "execution_count": 16,
   "source": [
    "headland_gdf = gpd.GeoDataFrame(geometry=[good_headlands[0]], crs=all_land.crs)\n",
    "# 继续进行路径规划\n",
    "headland_path, headland_headland = CPP_Algorithm_Optimizers.gen_path_with_minimum_headland_area_by_edge(\n",
    "    headland_gdf, swath_width, head_land_width=0, headland_mode='none'\n",
    ")"
   ],
   "metadata": {
    "collapsed": false,
    "ExecuteTime": {
     "end_time": "2023-07-08T06:36:01.566081Z",
     "start_time": "2023-07-08T06:36:01.537676Z"
    }
   },
   "outputs": []
  },
  {
   "cell_type": "code",
   "execution_count": 17,
   "source": [
    "_, ax = plt.subplots()\n",
    "headland_gdf.plot(ax=ax, color='b')\n",
    "headland_path.plot(ax=ax, color='y')"
   ],
   "metadata": {
    "collapsed": false,
    "ExecuteTime": {
     "end_time": "2023-07-08T06:36:01.636113Z",
     "start_time": "2023-07-08T06:36:01.569589Z"
    }
   },
   "outputs": []
  },
  {
   "cell_type": "code",
   "execution_count": 18,
   "source": [
    "a = [1, 2, 3, 4, 5]\n",
    "del a[2]\n",
    "a"
   ],
   "metadata": {
    "collapsed": false,
    "ExecuteTime": {
     "end_time": "2023-07-08T06:36:01.640198Z",
     "start_time": "2023-07-08T06:36:01.636359Z"
    }
   },
   "outputs": []
  },
  {
   "cell_type": "code",
   "execution_count": 19,
   "source": [
    "from CPP_Planner import CPP_Planner_TurningRail_Maker\n",
    "path_result = CPP_Planner_TurningRail_Maker.combine_headlands_gen_path(all_headland, swath_width, headland_width,\n",
    "                                                                       headland_mode='none', area_limit=20)\n"
   ],
   "metadata": {
    "collapsed": false,
    "ExecuteTime": {
     "end_time": "2023-07-08T06:36:03.111322Z",
     "start_time": "2023-07-08T06:36:01.639068Z"
    }
   },
   "outputs": []
  },
  {
   "cell_type": "code",
   "execution_count": 20,
   "source": [
    "_, ax = plt.subplots()\n",
    "for item in all_headland:\n",
    "    item.plot(ax=ax, color='b')\n",
    "for path in path_result:\n",
    "    path.plot(ax=ax, color='y')"
   ],
   "metadata": {
    "collapsed": false,
    "ExecuteTime": {
     "end_time": "2023-07-08T06:36:03.212109Z",
     "start_time": "2023-07-08T06:36:03.119034Z"
    }
   },
   "outputs": []
  },
  {
   "cell_type": "code",
   "execution_count": 21,
   "source": [
    "all_road = gpd.read_file('test_Load_Shp/shp_file/村地和道路/村地道路.shp')\n",
    "_, ax = plt.subplots()\n",
    "all_road.plot(ax=ax, color='b')\n",
    "all_land.plot(ax=ax, color='orange')\n",
    "ax.set_aspect('equal')"
   ],
   "metadata": {
    "collapsed": false,
    "ExecuteTime": {
     "end_time": "2023-07-08T06:36:03.313017Z",
     "start_time": "2023-07-08T06:36:03.211253Z"
    }
   },
   "outputs": []
  },
  {
   "cell_type": "code",
   "execution_count": 22,
   "source": [
    "# 添加缓冲区\n",
    "all_road_buffer = all_road.buffer(3.5)\n",
    "# 仅保留与地块相交的道路\n",
    "road_contact = []\n",
    "for road in all_road_buffer.geometry:\n",
    "    for land in all_land.geometry:\n",
    "        if road.intersects(land):\n",
    "            road_contact.append(road)\n",
    "# 显示\n",
    "_, ax = plt.subplots()\n",
    "for road in road_contact:\n",
    "    ax.plot(*road.exterior.xy)\n",
    "all_land.plot(ax=ax, color='orange')"
   ],
   "metadata": {
    "collapsed": false,
    "ExecuteTime": {
     "end_time": "2023-07-08T06:36:27.843136Z",
     "start_time": "2023-07-08T06:36:27.765034Z"
    }
   },
   "outputs": []
  },
  {
   "cell_type": "code",
   "execution_count": null,
   "source": [],
   "metadata": {
    "collapsed": false
   },
   "outputs": []
  }
 ],
 "metadata": {
  "kernelspec": {
   "display_name": "Python 3",
   "language": "python",
   "name": "python3"
  },
  "language_info": {
   "codemirror_mode": {
    "name": "ipython",
    "version": 2
   },
   "file_extension": ".py",
   "mimetype": "text/x-python",
   "name": "python",
   "nbconvert_exporter": "python",
   "pygments_lexer": "ipython2",
   "version": "2.7.6"
  }
 },
 "nbformat": 4,
 "nbformat_minor": 0
}
