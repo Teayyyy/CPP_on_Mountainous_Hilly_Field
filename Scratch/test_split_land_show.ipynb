{
 "cells": [
  {
   "cell_type": "code",
   "execution_count": 1,
   "metadata": {
    "collapsed": true,
    "ExecuteTime": {
     "end_time": "2023-06-16T14:47:08.600140Z",
     "start_time": "2023-06-16T14:47:07.861327Z"
    }
   },
   "source": [
    "import geopandas as gpd\n",
    "from shapely import LineString, Polygon\n",
    "from shapely import ops\n",
    "import matplotlib.pyplot as plt\n",
    "from CPP_Planner import CPP_Algorithms, CPP_Planner_Kit"
   ],
   "outputs": []
  },
  {
   "cell_type": "code",
   "execution_count": 2,
   "source": [
    "all_land = gpd.read_file('test_Load_Shp/shp_file/村1地_全区.shp')\n",
    "# all_land.plot()"
   ],
   "metadata": {
    "collapsed": false,
    "ExecuteTime": {
     "end_time": "2023-06-16T14:47:08.686089Z",
     "start_time": "2023-06-16T14:47:08.601070Z"
    }
   },
   "outputs": []
  },
  {
   "cell_type": "code",
   "execution_count": 3,
   "source": [
    "def test_show_plan_split_lands(all_land, index):\n",
    "    single_land = CPP_Planner_Kit.get_single_shp(all_land, index)\n",
    "    single_polygon = single_land.geometry.iloc[0]\n",
    "    # 进行分割后路径规划\n",
    "    split_polygons = CPP_Planner_Kit.split_polygon_by_largest_area(single_polygon, tolerance=0.04)\n",
    "    paths = []\n",
    "    for polygon in split_polygons:\n",
    "        temp_gpd = gpd.GeoDataFrame(geometry=[polygon])\n",
    "        paths.append(CPP_Algorithms.scanline_algorithm_single_no_turn(temp_gpd, step_size=1.4, along_long_edge=True))\n",
    "    # 显示\n",
    "    fig, ax = plt.subplots()\n",
    "    single_land.plot(ax=ax, color='r')\n",
    "    for path in paths:\n",
    "        path.plot(ax=ax, color='y', linewidth=0.7)\n",
    "# single_land.plot()"
   ],
   "metadata": {
    "collapsed": false,
    "ExecuteTime": {
     "end_time": "2023-06-16T14:47:08.689263Z",
     "start_time": "2023-06-16T14:47:08.687749Z"
    }
   },
   "outputs": []
  },
  {
   "cell_type": "code",
   "execution_count": 4,
   "source": [
    "test_show_plan_split_lands(all_land, 0)"
   ],
   "metadata": {
    "collapsed": false,
    "ExecuteTime": {
     "end_time": "2023-06-16T14:47:08.817589Z",
     "start_time": "2023-06-16T14:47:08.691177Z"
    }
   },
   "outputs": []
  },
  {
   "cell_type": "code",
   "execution_count": 5,
   "source": [
    "test_show_plan_split_lands(all_land, 1)"
   ],
   "metadata": {
    "collapsed": false,
    "ExecuteTime": {
     "end_time": "2023-06-16T14:47:08.922597Z",
     "start_time": "2023-06-16T14:47:08.812501Z"
    }
   },
   "outputs": []
  },
  {
   "cell_type": "code",
   "execution_count": 6,
   "source": [
    "test_show_plan_split_lands(all_land, 2)"
   ],
   "metadata": {
    "collapsed": false,
    "ExecuteTime": {
     "end_time": "2023-06-16T14:47:09.036395Z",
     "start_time": "2023-06-16T14:47:08.924738Z"
    }
   },
   "outputs": []
  },
  {
   "cell_type": "code",
   "execution_count": 7,
   "source": [
    "test_show_plan_split_lands(all_land, 3)"
   ],
   "metadata": {
    "collapsed": false,
    "ExecuteTime": {
     "end_time": "2023-06-16T14:47:09.108852Z",
     "start_time": "2023-06-16T14:47:09.038379Z"
    }
   },
   "outputs": []
  },
  {
   "cell_type": "code",
   "execution_count": 8,
   "source": [
    "test_show_plan_split_lands(all_land, 4)"
   ],
   "metadata": {
    "collapsed": false,
    "ExecuteTime": {
     "end_time": "2023-06-16T14:47:09.196007Z",
     "start_time": "2023-06-16T14:47:09.110505Z"
    }
   },
   "outputs": []
  },
  {
   "cell_type": "code",
   "execution_count": 9,
   "source": [
    "test_show_plan_split_lands(all_land, 5)"
   ],
   "metadata": {
    "collapsed": false,
    "ExecuteTime": {
     "end_time": "2023-06-16T14:47:09.309928Z",
     "start_time": "2023-06-16T14:47:09.196519Z"
    }
   },
   "outputs": []
  },
  {
   "cell_type": "code",
   "execution_count": 10,
   "source": [
    "test_show_plan_split_lands(all_land, 6)"
   ],
   "metadata": {
    "collapsed": false,
    "ExecuteTime": {
     "end_time": "2023-06-16T14:47:09.441205Z",
     "start_time": "2023-06-16T14:47:09.313094Z"
    }
   },
   "outputs": []
  },
  {
   "cell_type": "code",
   "execution_count": 10,
   "source": [],
   "metadata": {
    "collapsed": false,
    "ExecuteTime": {
     "end_time": "2023-06-16T14:47:09.441345Z",
     "start_time": "2023-06-16T14:47:09.439673Z"
    }
   },
   "outputs": []
  },
  {
   "cell_type": "code",
   "execution_count": 10,
   "source": [],
   "metadata": {
    "collapsed": false,
    "ExecuteTime": {
     "end_time": "2023-06-16T14:47:09.443689Z",
     "start_time": "2023-06-16T14:47:09.442374Z"
    }
   },
   "outputs": []
  }
 ],
 "metadata": {
  "kernelspec": {
   "display_name": "Python 3",
   "language": "python",
   "name": "python3"
  },
  "language_info": {
   "codemirror_mode": {
    "name": "ipython",
    "version": 2
   },
   "file_extension": ".py",
   "mimetype": "text/x-python",
   "name": "python",
   "nbconvert_exporter": "python",
   "pygments_lexer": "ipython2",
   "version": "2.7.6"
  }
 },
 "nbformat": 4,
 "nbformat_minor": 0
}
