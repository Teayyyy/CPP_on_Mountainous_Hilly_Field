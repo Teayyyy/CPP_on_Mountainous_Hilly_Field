{
 "cells": [
  {
   "cell_type": "code",
   "execution_count": 1,
   "metadata": {
    "collapsed": true,
    "ExecuteTime": {
     "end_time": "2023-06-19T17:41:49.785050Z",
     "start_time": "2023-06-19T17:41:49.295225Z"
    }
   },
   "outputs": [],
   "source": [
    "import geopandas as gpd\n",
    "from shapely import LineString, Polygon, Point\n",
    "import shapely\n",
    "import math\n",
    "from shapely import ops\n",
    "import matplotlib.pyplot as plt\n",
    "from CPP_Planner import CPP_Algorithms, CPP_Planner_Kit\n",
    "from shapely import affinity"
   ]
  },
  {
   "cell_type": "code",
   "execution_count": 2,
   "outputs": [
    {
     "data": {
      "text/plain": "   NAME              LAYER        周长            闭合面积  \\\n0    地2  Unknown Area Type  315.38 m  0.001833 sq km   \n1    地3  Unknown Area Type  182.65 m  0.001528 sq km   \n2    地4  Unknown Area Type  247.41 m   0.00125 sq km   \n3    地5  Unknown Area Type  143.98 m  0.000743 sq km   \n4    地6  Unknown Area Type  120.25 m  0.000631 sq km   \n5    地7  Unknown Area Type  147.18 m  0.001222 sq km   \n6  地1_区  Unknown Area Type  442.09 m  0.004246 sq km   \n\n                                            geometry  \n0  POLYGON ((440417.600 4397401.450, 440401.850 4...  \n1  POLYGON ((440478.950 4397335.400, 440484.500 4...  \n2  POLYGON ((440472.250 4397608.050, 440469.000 4...  \n3  POLYGON ((440450.050 4397795.250, 440451.850 4...  \n4  POLYGON ((440352.800 4397768.750, 440351.250 4...  \n5  POLYGON ((440315.750 4397785.800, 440309.100 4...  \n6  POLYGON ((440410.850 4397414.750, 440398.850 4...  ",
      "text/html": "<div>\n<style scoped>\n    .dataframe tbody tr th:only-of-type {\n        vertical-align: middle;\n    }\n\n    .dataframe tbody tr th {\n        vertical-align: top;\n    }\n\n    .dataframe thead th {\n        text-align: right;\n    }\n</style>\n<table border=\"1\" class=\"dataframe\">\n  <thead>\n    <tr style=\"text-align: right;\">\n      <th></th>\n      <th>NAME</th>\n      <th>LAYER</th>\n      <th>周长</th>\n      <th>闭合面积</th>\n      <th>geometry</th>\n    </tr>\n  </thead>\n  <tbody>\n    <tr>\n      <th>0</th>\n      <td>地2</td>\n      <td>Unknown Area Type</td>\n      <td>315.38 m</td>\n      <td>0.001833 sq km</td>\n      <td>POLYGON ((440417.600 4397401.450, 440401.850 4...</td>\n    </tr>\n    <tr>\n      <th>1</th>\n      <td>地3</td>\n      <td>Unknown Area Type</td>\n      <td>182.65 m</td>\n      <td>0.001528 sq km</td>\n      <td>POLYGON ((440478.950 4397335.400, 440484.500 4...</td>\n    </tr>\n    <tr>\n      <th>2</th>\n      <td>地4</td>\n      <td>Unknown Area Type</td>\n      <td>247.41 m</td>\n      <td>0.00125 sq km</td>\n      <td>POLYGON ((440472.250 4397608.050, 440469.000 4...</td>\n    </tr>\n    <tr>\n      <th>3</th>\n      <td>地5</td>\n      <td>Unknown Area Type</td>\n      <td>143.98 m</td>\n      <td>0.000743 sq km</td>\n      <td>POLYGON ((440450.050 4397795.250, 440451.850 4...</td>\n    </tr>\n    <tr>\n      <th>4</th>\n      <td>地6</td>\n      <td>Unknown Area Type</td>\n      <td>120.25 m</td>\n      <td>0.000631 sq km</td>\n      <td>POLYGON ((440352.800 4397768.750, 440351.250 4...</td>\n    </tr>\n    <tr>\n      <th>5</th>\n      <td>地7</td>\n      <td>Unknown Area Type</td>\n      <td>147.18 m</td>\n      <td>0.001222 sq km</td>\n      <td>POLYGON ((440315.750 4397785.800, 440309.100 4...</td>\n    </tr>\n    <tr>\n      <th>6</th>\n      <td>地1_区</td>\n      <td>Unknown Area Type</td>\n      <td>442.09 m</td>\n      <td>0.004246 sq km</td>\n      <td>POLYGON ((440410.850 4397414.750, 440398.850 4...</td>\n    </tr>\n  </tbody>\n</table>\n</div>"
     },
     "execution_count": 2,
     "metadata": {},
     "output_type": "execute_result"
    }
   ],
   "source": [
    "all_land = gpd.read_file('test_Load_Shp/shp_file/村1地_全区.shp')\n",
    "all_land.geometry = all_land.geometry.apply(shapely.set_precision, grid_size=0.05)\n",
    "all_land"
   ],
   "metadata": {
    "collapsed": false,
    "ExecuteTime": {
     "end_time": "2023-06-19T17:41:49.846732Z",
     "start_time": "2023-06-19T17:41:49.785736Z"
    }
   }
  },
  {
   "cell_type": "code",
   "execution_count": 3,
   "outputs": [
    {
     "data": {
      "text/plain": "(array('d', [440417.60000000003, 440401.85000000003, 440388.80000000005, 440351.85000000003, 440342.7, 440335.15, 440345.25, 440353.60000000003, 440362.7, 440407.0, 440418.55000000005, 440417.60000000003]),\n array('d', [4397401.45, 4397396.8, 4397420.5, 4397486.100000001, 4397508.95, 4397517.65, 4397525.65, 4397510.9, 4397494.45, 4397414.2, 4397401.7, 4397401.45]))"
     },
     "execution_count": 3,
     "metadata": {},
     "output_type": "execute_result"
    }
   ],
   "source": [
    "single_land = all_land.geometry.iloc[0]\n",
    "single_land.exterior.xy"
   ],
   "metadata": {
    "collapsed": false,
    "ExecuteTime": {
     "end_time": "2023-06-19T17:41:49.850017Z",
     "start_time": "2023-06-19T17:41:49.847562Z"
    }
   }
  },
  {
   "cell_type": "code",
   "execution_count": 4,
   "outputs": [],
   "source": [
    "# 地块宽度\n",
    "swath_width = 1.45\n",
    "# 地块坡度\n",
    "land_slope = 6\n",
    "# 转化坡度为弧度\n",
    "land_slope = math.radians(land_slope)\n",
    "# 计算修正后的地块宽度\n",
    "swath_width_corrected = swath_width * math.cos(land_slope)"
   ],
   "metadata": {
    "collapsed": false,
    "ExecuteTime": {
     "end_time": "2023-06-19T17:41:49.852534Z",
     "start_time": "2023-06-19T17:41:49.850793Z"
    }
   }
  },
  {
   "cell_type": "code",
   "execution_count": 5,
   "outputs": [
    {
     "data": {
      "text/plain": "1.4420567482839963"
     },
     "execution_count": 5,
     "metadata": {},
     "output_type": "execute_result"
    }
   ],
   "source": [
    "swath_width_corrected"
   ],
   "metadata": {
    "collapsed": false,
    "ExecuteTime": {
     "end_time": "2023-06-19T17:41:49.856440Z",
     "start_time": "2023-06-19T17:41:49.853872Z"
    }
   }
  },
  {
   "cell_type": "code",
   "execution_count": 8,
   "outputs": [
    {
     "name": "stdout",
     "output_type": "stream",
     "text": [
      "1.45\n",
      "1.4499975781354135\n"
     ]
    }
   ],
   "source": [
    "swath_width_corrected_2 = CPP_Planner_Kit.get_corrected_swath_width(swath_width, land_slope)\n",
    "print(swath_width)\n",
    "print(swath_width_corrected_2)"
   ],
   "metadata": {
    "collapsed": false,
    "ExecuteTime": {
     "end_time": "2023-06-19T17:42:06.059780Z",
     "start_time": "2023-06-19T17:42:06.055762Z"
    }
   }
  },
  {
   "cell_type": "code",
   "execution_count": 6,
   "outputs": [],
   "source": [],
   "metadata": {
    "collapsed": false,
    "ExecuteTime": {
     "end_time": "2023-06-19T17:41:49.860739Z",
     "start_time": "2023-06-19T17:41:49.859149Z"
    }
   }
  }
 ],
 "metadata": {
  "kernelspec": {
   "display_name": "Python 3",
   "language": "python",
   "name": "python3"
  },
  "language_info": {
   "codemirror_mode": {
    "name": "ipython",
    "version": 2
   },
   "file_extension": ".py",
   "mimetype": "text/x-python",
   "name": "python",
   "nbconvert_exporter": "python",
   "pygments_lexer": "ipython2",
   "version": "2.7.6"
  }
 },
 "nbformat": 4,
 "nbformat_minor": 0
}
