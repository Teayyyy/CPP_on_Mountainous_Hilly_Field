{
 "cells": [
  {
   "cell_type": "markdown",
   "source": [
    "# 这个脚本用来测试，是否当前多边形为凸边形，如果是凹边形，则拆分成凸边形"
   ],
   "metadata": {
    "collapsed": false
   }
  },
  {
   "cell_type": "code",
   "execution_count": 1,
   "metadata": {
    "collapsed": true,
    "ExecuteTime": {
     "end_time": "2023-06-30T17:35:04.643376Z",
     "start_time": "2023-06-30T17:35:04.081266Z"
    }
   },
   "source": [
    "import geopandas as gpd\n",
    "import matplotlib.pyplot as plt\n",
    "from shapely.geometry import Polygon, LineString, MultiPolygon\n",
    "from shapely import affinity\n",
    "from CPP_Planner import CPP_Planner_Kit"
   ],
   "outputs": []
  },
  {
   "cell_type": "code",
   "execution_count": 2,
   "source": [
    "all_land = gpd.read_file('test_Load_Shp/shp_file/村1地_全区.shp')\n",
    "all_land.plot()"
   ],
   "metadata": {
    "collapsed": false,
    "ExecuteTime": {
     "end_time": "2023-06-30T17:35:04.768353Z",
     "start_time": "2023-06-30T17:35:04.644277Z"
    }
   },
   "outputs": []
  },
  {
   "cell_type": "code",
   "execution_count": 3,
   "source": [
    "# 获取一个凹边形\n",
    "single_land = CPP_Planner_Kit.get_single_shp(all_land, 6)\n",
    "single_land.plot()"
   ],
   "metadata": {
    "collapsed": false,
    "ExecuteTime": {
     "end_time": "2023-06-30T17:35:04.832063Z",
     "start_time": "2023-06-30T17:35:04.783464Z"
    }
   },
   "outputs": []
  },
  {
   "cell_type": "code",
   "execution_count": 4,
   "source": [
    "single_polygon = single_land.geometry.iloc[0]\n",
    "type(single_polygon)"
   ],
   "metadata": {
    "collapsed": false,
    "ExecuteTime": {
     "end_time": "2023-06-30T17:35:04.834958Z",
     "start_time": "2023-06-30T17:35:04.832444Z"
    }
   },
   "outputs": []
  },
  {
   "cell_type": "code",
   "execution_count": 5,
   "source": [
    "def plot_polygon_with_edge_length(polygon):\n",
    "    # 提取多边形的坐标\n",
    "    x, y = polygon.exterior.xy\n",
    "\n",
    "    # 计算每条边的长度\n",
    "    # edge_lengths = [calc_distance(polygon.exterior.coords[i], polygon.exterior.coords[i + 1]) for i in range(len(polygon.exterior.coords) - 1)]\n",
    "    # 重新做一个存储坐标的表，末尾再存储一次第一个点\n",
    "    coords_x = [temp_x for temp_x in x]\n",
    "    coords_x.append(x[0])\n",
    "    coords_y = [temp_y for temp_y in y]\n",
    "    coords_y.append(y[0])\n",
    "    # edge_lengths = [calc_distance([coords_x[i], coords_y[i]], [coords_x[i+1], coords_y[i+1]]) for i in range(len(coords_x)-1)]\n",
    "    edge_lengths = []\n",
    "    for i in range(len(coords_x) - 1):\n",
    "        length = ((coords_x[i] - coords_x[i+1])**2 + (coords_y[i] - coords_y[i+1])**2) ** 0.5\n",
    "        print(\"length: \", length)\n",
    "        edge_lengths.append(length)\n",
    "    print(\"Counted edge: \", len(edge_lengths))\n",
    "\n",
    "    # 绘制多边形\n",
    "    plt.plot(x, y, 'b-', label='Polygon')\n",
    "\n",
    "    # 在每条边旁边显示长度\n",
    "    for i, length in enumerate(edge_lengths):\n",
    "        # edge_midpoint = polygon.exterior.interpolate(i + 0.5, normalized=True)\n",
    "        # 将边显示到每条边的中点上\n",
    "        edge_midpoint = [(coords_x[i] + coords_x[i+1])/2, (coords_y[i] + coords_y[i+1])/2]\n",
    "        plt.text(edge_midpoint[0], edge_midpoint[1], f'{length:.2f}', ha='center', va='center')\n",
    "\n",
    "    plt.xlabel('X')\n",
    "    plt.ylabel('Y')\n",
    "    plt.legend()\n",
    "    plt.show()\n",
    "\n",
    "plot_polygon_with_edge_length(single_polygon)"
   ],
   "metadata": {
    "collapsed": false,
    "ExecuteTime": {
     "end_time": "2023-06-30T17:35:04.917821Z",
     "start_time": "2023-06-30T17:35:04.840208Z"
    }
   },
   "outputs": []
  },
  {
   "cell_type": "markdown",
   "source": [
    "# 尝试使用凸分割函数进行非凸边形的分割"
   ],
   "metadata": {
    "collapsed": false
   }
  },
  {
   "cell_type": "code",
   "execution_count": 6,
   "source": [
    "from shapely.ops import linemerge, unary_union"
   ],
   "metadata": {
    "collapsed": false,
    "ExecuteTime": {
     "end_time": "2023-06-30T17:35:04.919653Z",
     "start_time": "2023-06-30T17:35:04.918076Z"
    }
   },
   "outputs": []
  },
  {
   "cell_type": "code",
   "execution_count": 7,
   "source": [
    "# 绘制当前的多边形，以及其convex_hull\n",
    "fig, ax = plt.subplots()\n",
    "ax.plot(*single_polygon.exterior.xy, color='red')\n",
    "ax.plot(*single_polygon.convex_hull.exterior.xy, color='green')"
   ],
   "metadata": {
    "collapsed": false,
    "ExecuteTime": {
     "end_time": "2023-06-30T17:35:04.988334Z",
     "start_time": "2023-06-30T17:35:04.928039Z"
    }
   },
   "outputs": []
  },
  {
   "cell_type": "code",
   "execution_count": 8,
   "source": [
    "# 获取凸包上的所有的线，存储成单独的一根根线\n",
    "convex_hull_lines = []\n",
    "for i in range(len(single_polygon.convex_hull.exterior.coords)-1):\n",
    "    convex_hull_lines.append(LineString([single_polygon.convex_hull.exterior.coords[i], single_polygon.convex_hull.exterior.coords[i+1]]))\n",
    "# 获取原多边形的所有线，存储成单独的一根根线\n",
    "polygon_lines = []\n",
    "for i in range(len(single_polygon.exterior.coords)-1):\n",
    "    polygon_lines.append(LineString([single_polygon.exterior.coords[i], single_polygon.exterior.coords[i+1]]))\n",
    "[len(convex_hull_lines), len(polygon_lines)]"
   ],
   "metadata": {
    "collapsed": false,
    "ExecuteTime": {
     "end_time": "2023-06-30T17:35:04.993391Z",
     "start_time": "2023-06-30T17:35:04.989862Z"
    }
   },
   "outputs": []
  },
  {
   "cell_type": "code",
   "execution_count": 9,
   "source": [
    "# 得到所有的不再凸包上的线\n",
    "not_on_convex_hull_lines = []\n",
    "for polygon_line in polygon_lines:\n",
    "    if polygon_line not in convex_hull_lines:\n",
    "        not_on_convex_hull_lines.append(polygon_line)\n",
    "[len(not_on_convex_hull_lines)]"
   ],
   "metadata": {
    "collapsed": false,
    "ExecuteTime": {
     "end_time": "2023-06-30T17:35:04.996838Z",
     "start_time": "2023-06-30T17:35:04.995113Z"
    }
   },
   "outputs": []
  },
  {
   "cell_type": "code",
   "execution_count": 10,
   "source": [
    "fig, ax = plt.subplots()\n",
    "ax.plot(*single_polygon.exterior.xy, color='red')\n",
    "ax.plot(*single_polygon.convex_hull.exterior.xy, color='green')\n",
    "for no_convex_line in not_on_convex_hull_lines:\n",
    "    ax.plot(*no_convex_line.xy, color='blue')"
   ],
   "metadata": {
    "collapsed": false,
    "ExecuteTime": {
     "end_time": "2023-06-30T17:35:05.068454Z",
     "start_time": "2023-06-30T17:35:05.000121Z"
    }
   },
   "outputs": []
  },
  {
   "cell_type": "code",
   "execution_count": 11,
   "source": [
    "from shapely.ops import split\n",
    "# 使用所有在 not_on_convex_hull_lines 中的线，对 single_polygon 进行分割\n",
    "# 从 not_on_convex_hull_lines 取出一条线，以其作为分割线，将 single_polygon 分割为两个多边形，同时判断是否有多边形为凸边形，如果一个都没有，则换一条线，如果有一个为凸边形，则放入分割完成的 convex_split_polygon 中，如果两个都是凸边形，则都放入 convex_split_polygon 中，结束循环\n",
    "convex_split_polygon = []\n",
    "for no_convex_line in not_on_convex_hull_lines:\n",
    "    print(type(no_convex_line))\n",
    "    # 将 single_polygon 分割为两个多边形\n",
    "    # split_polygons = list(single_polygon.difference(no_convex_line))\n",
    "    split_polygons = split(single_polygon, no_convex_line)\n",
    "    print(type(split_polygons))\n",
    "    # 判断两个多边形是否为凸边形\n",
    "    convex_polygons = []\n",
    "    for split_polygon in split_polygons:\n",
    "        if split_polygon.is_convex:\n",
    "            convex_polygons.append(split_polygon)\n",
    "    # 如果两个都是凸边形，则都放入 convex_split_polygon 中\n",
    "    if len(convex_polygons) == 2:\n",
    "        convex_split_polygon.append(convex_polygons[0])\n",
    "        convex_split_polygon.append(convex_polygons[1])\n",
    "        break\n",
    "    # 如果一个都没有，则换一条线\n",
    "    elif len(convex_polygons) == 0:\n",
    "        continue\n",
    "    # 如果有一个为凸边形，则放入分割完成的 convex_split_polygon 中\n",
    "    elif len(convex_polygons) == 1:\n",
    "        convex_split_polygon.append(convex_polygons[0])\n",
    "        break\n",
    "[len(convex_split_polygon)]\n"
   ],
   "metadata": {
    "collapsed": false,
    "ExecuteTime": {
     "end_time": "2023-06-30T17:35:05.250668Z",
     "start_time": "2023-06-30T17:35:05.070714Z"
    }
   },
   "outputs": []
  },
  {
   "cell_type": "code",
   "execution_count": 24,
   "source": [
    "split_line = not_on_convex_hull_lines[8]\n",
    "print(type(split_line))\n",
    "print(type(split_line.xy[0][0]))\n",
    "# 将 split_line 两端延长，得到一个很长的线\n",
    "# x1 = split_line.xy[0][0]\n",
    "# y1 = split_line.xy[1][0]\n",
    "# x2 = split_line.xy[0][1]\n",
    "# y2 = split_line.xy[1][1]\n",
    "\n",
    "# 延长 split_line 为原来的2倍，保持原来的角度不变\n",
    "# 获取线段的起始点和结束点的坐标\n",
    "# x1, y1 = split_line.coords[0]\n",
    "# x2, y2 = split_line.coords[1]\n",
    "#\n",
    "# # 计算线段的方向向量\n",
    "# dx = x2 - x1\n",
    "# dy = y2 - y1\n",
    "# extended_dx = dx * 10\n",
    "# extended_dy = dy * 10\n",
    "#\n",
    "# # 计算延长后的线段的结束点坐标\n",
    "# extended_x2 = x2 + extended_dx\n",
    "# extended_y2 = y2 + extended_dy\n",
    "# extended_x1 = x1 - extended_dx\n",
    "# extended_y1 = y1 - extended_dy\n",
    "#\n",
    "# # 另一个方向的延长\n",
    "#\n",
    "#\n",
    "# extended_line = LineString([(extended_x1, extended_y1), (extended_x2, extended_y2)])\n",
    "extended_line = CPP_Planner_Kit.extend_shapely_line(split_line)\n",
    "\n",
    "\n",
    "# 切割多边形\n",
    "# splitted_polygon = single_polygon.difference(extend_line)\n",
    "\n",
    "fig, ax = plt.subplots()\n",
    "# ax.plot(*single_polygon.exterior.xy, color='red')\n",
    "# ax.plot(*splitted_polygon.exterior.xy, color='red')\n",
    "ax.plot(*single_polygon.exterior.xy, color='red')\n",
    "x, y = extended_line.xy\n",
    "ax.plot(x, y, color='green')\n",
    "ax.set_aspect('equal')"
   ],
   "metadata": {
    "collapsed": false,
    "ExecuteTime": {
     "end_time": "2023-06-30T17:39:12.117927Z",
     "start_time": "2023-06-30T17:39:12.060747Z"
    }
   },
   "outputs": []
  },
  {
   "cell_type": "code",
   "execution_count": 15,
   "source": [
    "# print(split_line)\n",
    "# split_line = split_line.buffer(2, cap_style=3)\n",
    "# print(\"------------------------------\")\n",
    "# print(split_line)\n",
    "# # split_line = LineString([(split_line.xy[0][0]-100, split_line.xy[1][0]-100), (split_line.xy[0][1]+100, split_line.xy[1][1]+100)])\n",
    "# split_line"
   ],
   "metadata": {
    "collapsed": false,
    "ExecuteTime": {
     "end_time": "2023-06-30T17:36:02.913889Z",
     "start_time": "2023-06-30T17:36:02.906068Z"
    }
   },
   "outputs": []
  },
  {
   "cell_type": "code",
   "execution_count": 16,
   "source": [
    "# 将 single_polygon 分割为两个多边形，分割线为 split_line 所在的延长线\n",
    "split_polygon = split(single_polygon, split_line)"
   ],
   "metadata": {
    "collapsed": false,
    "ExecuteTime": {
     "end_time": "2023-06-30T17:36:03.181691Z",
     "start_time": "2023-06-30T17:36:03.171717Z"
    }
   },
   "outputs": []
  },
  {
   "cell_type": "code",
   "execution_count": 17,
   "source": [
    "for geom in split_polygon.geoms:\n",
    "    print(type(geom))"
   ],
   "metadata": {
    "collapsed": false,
    "ExecuteTime": {
     "end_time": "2023-06-30T17:36:03.462971Z",
     "start_time": "2023-06-30T17:36:03.455992Z"
    }
   },
   "outputs": []
  },
  {
   "cell_type": "code",
   "execution_count": 18,
   "source": [
    "line1 = LineString([[0, 0], [1, 1]])\n",
    "x1 = line1.xy[0][0]\n",
    "y1 = line1.xy[1][0]\n",
    "x2 = line1.xy[0][1]\n",
    "y2 = line1.xy[1][1]\n",
    "line2 = LineString([[x1 -10, y1-10], [x2+10, y2+10]])\n",
    "# draw\n",
    "fig, ax = plt.subplots()\n",
    "x, y = line1.xy\n",
    "ax.plot(x, y, color='y', linewidth=4, solid_capstyle='round', zorder=1)\n",
    "x, y = line2.xy\n",
    "ax.plot(x, y, color='blue', linewidth=2, solid_capstyle='round', zorder=2)"
   ],
   "metadata": {
    "collapsed": false,
    "ExecuteTime": {
     "end_time": "2023-06-30T17:36:03.875394Z",
     "start_time": "2023-06-30T17:36:03.822085Z"
    }
   },
   "outputs": []
  },
  {
   "cell_type": "code",
   "execution_count": 19,
   "source": [
    "CPP_Planner_Kit.show_polygon_edge_length(single_polygon)"
   ],
   "metadata": {
    "collapsed": false,
    "ExecuteTime": {
     "end_time": "2023-06-30T17:36:04.625789Z",
     "start_time": "2023-06-30T17:36:04.548899Z"
    }
   },
   "outputs": []
  },
  {
   "cell_type": "code",
   "execution_count": 20,
   "source": [
    "def convex_partition(polygon):\n",
    "    # 将输入多边形转换为Shapely的Polygon对象\n",
    "    # polygon = Polygon(polygon)\n",
    "\n",
    "    # 初始化凸多边形列表\n",
    "    convex_polygons = []\n",
    "\n",
    "    # 创建初始分割线段\n",
    "    segment = linemerge([polygon.exterior])\n",
    "\n",
    "    # 迭代进行凸分割\n",
    "    while segment:\n",
    "        # 提取分割线段的坐标点\n",
    "        coords = list(segment.coords)\n",
    "\n",
    "        # 创建凸多边形\n",
    "        convex_polygon = Polygon(coords)\n",
    "\n",
    "        # 将凸多边形添加到列表中\n",
    "        convex_polygons.append(convex_polygon)\n",
    "\n",
    "        # 从原多边形中移除已分割的部分\n",
    "        polygon = polygon.difference(convex_polygon)\n",
    "\n",
    "        # 创建剩余部分的分割线段\n",
    "        segment = linemerge([polygon.exterior])\n",
    "\n",
    "    return convex_polygons\n",
    "# convex_polygons = convex_partition(single_polygon)"
   ],
   "metadata": {
    "collapsed": false,
    "ExecuteTime": {
     "end_time": "2023-06-30T17:36:05.384624Z",
     "start_time": "2023-06-30T17:36:05.381021Z"
    }
   },
   "outputs": []
  },
  {
   "cell_type": "markdown",
   "source": [
    "# 测试分割多边形"
   ],
   "metadata": {
    "collapsed": false
   }
  },
  {
   "cell_type": "code",
   "execution_count": 21,
   "source": [
    "print(type(single_polygon))\n",
    "print(type(split_line))\n",
    "split_polygons = CPP_Planner_Kit.split_polygon_through_1edge(single_polygon, split_line)\n",
    "print(type(split_polygons))"
   ],
   "metadata": {
    "collapsed": false,
    "ExecuteTime": {
     "end_time": "2023-06-30T17:36:06.488402Z",
     "start_time": "2023-06-30T17:36:06.484329Z"
    }
   },
   "outputs": []
  },
  {
   "cell_type": "code",
   "execution_count": 25,
   "source": [
    "fig, ax = plt.subplots()\n",
    "for geom in split_polygons.geoms:\n",
    "    x, y = geom.exterior.xy\n",
    "    ax.plot(x, y)\n",
    "ax.set_aspect('equal')"
   ],
   "metadata": {
    "collapsed": false,
    "ExecuteTime": {
     "end_time": "2023-06-30T17:39:51.590169Z",
     "start_time": "2023-06-30T17:39:51.544281Z"
    }
   },
   "outputs": []
  },
  {
   "cell_type": "code",
   "execution_count": null,
   "source": [
    "CPP_Planner_Kit.show_geometry_collection(split_polygons)"
   ],
   "metadata": {
    "collapsed": false
   },
   "outputs": []
  },
  {
   "cell_type": "code",
   "execution_count": null,
   "source": [],
   "metadata": {
    "collapsed": false
   },
   "outputs": []
  }
 ],
 "metadata": {
  "kernelspec": {
   "display_name": "Python 3",
   "language": "python",
   "name": "python3"
  },
  "language_info": {
   "codemirror_mode": {
    "name": "ipython",
    "version": 2
   },
   "file_extension": ".py",
   "mimetype": "text/x-python",
   "name": "python",
   "nbconvert_exporter": "python",
   "pygments_lexer": "ipython2",
   "version": "2.7.6"
  }
 },
 "nbformat": 4,
 "nbformat_minor": 0
}
