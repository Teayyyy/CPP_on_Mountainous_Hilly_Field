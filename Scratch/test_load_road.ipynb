{
 "cells": [
  {
   "cell_type": "code",
   "execution_count": 1,
   "metadata": {
    "collapsed": true,
    "ExecuteTime": {
     "end_time": "2023-07-08T06:31:38.879179Z",
     "start_time": "2023-07-08T06:31:37.798199Z"
    }
   },
   "source": [
    "import geopandas as gpd\n",
    "from shapely import LineString, Polygon, Point\n",
    "import shapely\n",
    "from shapely import ops\n",
    "import matplotlib.pyplot as plt\n",
    "from CPP_Planner import CPP_Algorithms, CPP_Planner_Kit, CPP_Algorithm_Optimizers\n",
    "from shapely import affinity\n",
    "from skimage.measure import approximate_polygon\n",
    "import warnings\n",
    "import math"
   ],
   "outputs": []
  },
  {
   "cell_type": "code",
   "execution_count": 2,
   "source": [
    "all_road = gpd.read_file('test_Load_Shp/shp_file/村地和道路/村地道路.shp')\n",
    "# all_land = gpd.read_file('test_Load_Shp/shp_file/村1地_全区.shp')\n",
    "all_land = gpd.read_file('test_Load_Shp/shp_file/村地和道路/村地地块区域.shp')\n",
    "all_road"
   ],
   "metadata": {
    "collapsed": false,
    "ExecuteTime": {
     "end_time": "2023-07-08T06:31:39.010366Z",
     "start_time": "2023-07-08T06:31:38.880352Z"
    }
   },
   "outputs": []
  },
  {
   "cell_type": "code",
   "execution_count": 3,
   "source": [
    "_, ax = plt.subplots()\n",
    "all_road.plot(ax=ax, color='b')\n",
    "all_land.plot(ax=ax, color='orange')\n",
    "ax.set_aspect('equal')"
   ],
   "metadata": {
    "collapsed": false,
    "ExecuteTime": {
     "end_time": "2023-07-08T06:31:39.125821Z",
     "start_time": "2023-07-08T06:31:39.006780Z"
    }
   },
   "outputs": []
  },
  {
   "cell_type": "code",
   "execution_count": 4,
   "source": [
    "# 添加缓冲区\n",
    "all_road_buffer = all_road.buffer(3.5)\n",
    "_, ax = plt.subplots()\n",
    "all_road_buffer.plot(ax=ax)\n",
    "all_land.plot(ax=ax, color='orange')"
   ],
   "metadata": {
    "collapsed": false,
    "ExecuteTime": {
     "end_time": "2023-07-08T06:31:39.258069Z",
     "start_time": "2023-07-08T06:31:39.126400Z"
    }
   },
   "outputs": []
  },
  {
   "cell_type": "code",
   "execution_count": 5,
   "source": [
    "# 仅保留与地块相交的道路\n",
    "road_contact = []\n",
    "for road in all_road_buffer.geometry:\n",
    "    for land in all_land.geometry:\n",
    "        if road.intersects(land):\n",
    "            road_contact.append(road)\n",
    "road_contact"
   ],
   "metadata": {
    "collapsed": false,
    "ExecuteTime": {
     "end_time": "2023-07-08T06:31:39.266509Z",
     "start_time": "2023-07-08T06:31:39.260365Z"
    }
   },
   "outputs": []
  },
  {
   "cell_type": "code",
   "execution_count": 6,
   "source": [
    "# 显示\n",
    "_, ax = plt.subplots()\n",
    "for road in road_contact:\n",
    "    ax.plot(*road.exterior.xy)\n",
    "all_land.plot(ax=ax, color='orange')"
   ],
   "metadata": {
    "collapsed": false,
    "ExecuteTime": {
     "end_time": "2023-07-08T06:31:39.366166Z",
     "start_time": "2023-07-08T06:31:39.275004Z"
    }
   },
   "outputs": []
  },
  {
   "cell_type": "code",
   "execution_count": 8,
   "source": [],
   "metadata": {
    "collapsed": false,
    "ExecuteTime": {
     "end_time": "2023-07-08T06:32:20.009784Z",
     "start_time": "2023-07-08T06:32:19.940243Z"
    }
   },
   "outputs": []
  }
 ],
 "metadata": {
  "kernelspec": {
   "display_name": "Python 3",
   "language": "python",
   "name": "python3"
  },
  "language_info": {
   "codemirror_mode": {
    "name": "ipython",
    "version": 2
   },
   "file_extension": ".py",
   "mimetype": "text/x-python",
   "name": "python",
   "nbconvert_exporter": "python",
   "pygments_lexer": "ipython2",
   "version": "2.7.6"
  }
 },
 "nbformat": 4,
 "nbformat_minor": 0
}
