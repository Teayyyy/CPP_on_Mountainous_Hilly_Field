{
 "cells": [
  {
   "cell_type": "code",
   "execution_count": 1,
   "metadata": {
    "collapsed": true,
    "ExecuteTime": {
     "end_time": "2023-07-09T17:14:14.281057Z",
     "start_time": "2023-07-09T17:14:13.516695Z"
    }
   },
   "source": [
    "import geopandas as gpd\n",
    "from shapely import LineString, Polygon, Point\n",
    "import shapely\n",
    "from shapely import ops\n",
    "import matplotlib.pyplot as plt\n",
    "from CPP_Planner import CPP_Algorithms, CPP_Planner_Kit, CPP_Algorithm_Optimizers\n",
    "from shapely import affinity\n",
    "from skimage.measure import approximate_polygon\n",
    "import warnings\n",
    "import math"
   ],
   "outputs": []
  },
  {
   "cell_type": "code",
   "execution_count": 2,
   "source": [
    "all_road = gpd.read_file('test_Load_Shp/shp_file/村地和道路/村地道路.shp')\n",
    "# all_land = gpd.read_file('test_Load_Shp/shp_file/村1地_全区.shp')\n",
    "all_land = gpd.read_file('test_Load_Shp/shp_file/村地和道路/村地地块区域.shp')\n",
    "all_road"
   ],
   "metadata": {
    "collapsed": false,
    "ExecuteTime": {
     "end_time": "2023-07-09T17:14:14.350081Z",
     "start_time": "2023-07-09T17:14:14.282008Z"
    }
   },
   "outputs": []
  },
  {
   "cell_type": "code",
   "execution_count": 3,
   "source": [
    "_, ax = plt.subplots()\n",
    "all_road.plot(ax=ax, color='b')\n",
    "all_land.plot(ax=ax, color='orange')\n",
    "ax.set_aspect('equal')"
   ],
   "metadata": {
    "collapsed": false,
    "ExecuteTime": {
     "end_time": "2023-07-09T17:14:14.461532Z",
     "start_time": "2023-07-09T17:14:14.351022Z"
    }
   },
   "outputs": []
  },
  {
   "cell_type": "code",
   "execution_count": 4,
   "source": [
    "single_land = CPP_Planner_Kit.get_single_shp(all_land, 0)\n",
    "single_land.plot()"
   ],
   "metadata": {
    "collapsed": false,
    "ExecuteTime": {
     "end_time": "2023-07-09T17:14:14.557915Z",
     "start_time": "2023-07-09T17:14:14.473615Z"
    }
   },
   "outputs": []
  },
  {
   "cell_type": "code",
   "execution_count": 5,
   "source": [
    "split_polygon = CPP_Planner_Kit.split_polygon_by_largest_area(single_land.geometry.iloc[0], tolerance=0.05)\n",
    "_, ax = plt.subplots()\n",
    "for polygon in split_polygon:\n",
    "    ax.plot(*polygon.exterior.xy)\n"
   ],
   "metadata": {
    "collapsed": false,
    "ExecuteTime": {
     "end_time": "2023-07-09T17:14:14.625064Z",
     "start_time": "2023-07-09T17:14:14.557710Z"
    }
   },
   "outputs": []
  },
  {
   "cell_type": "code",
   "execution_count": 6,
   "source": [
    "# 旋转\n",
    "single_polygon = split_polygon[0]\n",
    "single_polygon_angle = CPP_Planner_Kit.get_land_MABR_angle(single_polygon)\n",
    "single_polygon = affinity.rotate(single_polygon, -single_polygon_angle, origin='centroid')\n",
    "_, ax = plt.subplots()\n",
    "ax.plot(*single_polygon.exterior.xy)\n",
    "ax.set_aspect('equal')"
   ],
   "metadata": {
    "collapsed": false,
    "ExecuteTime": {
     "end_time": "2023-07-09T17:14:14.696986Z",
     "start_time": "2023-07-09T17:14:14.625752Z"
    }
   },
   "outputs": []
  },
  {
   "cell_type": "code",
   "execution_count": 7,
   "source": [
    "# 进行基础的路径规划，此时不用地头\n",
    "single_polygon_regen = gpd.GeoDataFrame(geometry=[single_polygon], crs=all_land.crs)\n",
    "path, headland = CPP_Algorithms.scanline_algorithm_single_with_headland(single_polygon_regen, 1.45, False, 'none')"
   ],
   "metadata": {
    "collapsed": false,
    "ExecuteTime": {
     "end_time": "2023-07-09T17:14:14.697287Z",
     "start_time": "2023-07-09T17:14:14.691979Z"
    }
   },
   "outputs": []
  },
  {
   "cell_type": "code",
   "execution_count": 8,
   "source": [
    "_, ax = plt.subplots()\n",
    "path.plot(ax=ax, color='y')\n",
    "ax.plot(*single_polygon.exterior.xy, color='b')"
   ],
   "metadata": {
    "collapsed": false,
    "ExecuteTime": {
     "end_time": "2023-07-09T17:14:14.760328Z",
     "start_time": "2023-07-09T17:14:14.694377Z"
    }
   },
   "outputs": []
  },
  {
   "cell_type": "code",
   "execution_count": 9,
   "source": [
    "# 假定一个地头宽度\n",
    "headland_width = 9"
   ],
   "metadata": {
    "collapsed": false,
    "ExecuteTime": {
     "end_time": "2023-07-09T17:14:14.761455Z",
     "start_time": "2023-07-09T17:14:14.758194Z"
    }
   },
   "outputs": []
  },
  {
   "cell_type": "code",
   "execution_count": 10,
   "source": [
    "# 检查当前路径和地块边界的交点\n",
    "# 左侧\n",
    "path_left = path.geometry\n",
    "intersect_points = []\n",
    "for line in path_left:\n",
    "    # print(line.coords[0][0])\n",
    "    if line.coords[0][0] < line.coords[-1][0]:\n",
    "        left_point, right_point = line.coords[0], line.coords[-1]\n",
    "    else:\n",
    "        left_point, right_point = line.coords[-1], line.coords[0]\n",
    "    # 因为是左侧，仅保留左侧很小的一部分，用于检测相交的点\n",
    "    # temp_detection_line = LineString((left_point, (left_point[0] + 1, left_point[1])))\n",
    "    # intersect_points.append(temp_detection_line.intersection(single_polygon))\n",
    "    intersect_points.append(left_point)\n",
    "intersect_points"
   ],
   "metadata": {
    "collapsed": false,
    "ExecuteTime": {
     "end_time": "2023-07-09T17:14:14.765533Z",
     "start_time": "2023-07-09T17:14:14.762664Z"
    }
   },
   "outputs": []
  },
  {
   "cell_type": "code",
   "execution_count": 11,
   "source": [
    "line = LineString(intersect_points)\n",
    "headland_edge = affinity.translate(line, xoff=headland_width)\n",
    "# 制作出地头\n",
    "_, ax = plt.subplots()\n",
    "ax.plot(*line.xy, linewidth=5)\n",
    "ax.plot(*headland_edge.xy, color='b')\n",
    "ax.set_aspect('equal')"
   ],
   "metadata": {
    "collapsed": false,
    "ExecuteTime": {
     "end_time": "2023-07-09T17:14:14.847307Z",
     "start_time": "2023-07-09T17:14:14.775661Z"
    }
   },
   "outputs": []
  },
  {
   "cell_type": "code",
   "execution_count": 12,
   "source": [
    "combined_polygon = list(line.coords)\n",
    "combined_polygon += list(reversed(headland_edge.coords))\n",
    "combined_polygon = Polygon(combined_polygon)\n",
    "plt.plot(*combined_polygon.exterior.xy)"
   ],
   "metadata": {
    "collapsed": false,
    "ExecuteTime": {
     "end_time": "2023-07-09T17:14:14.912341Z",
     "start_time": "2023-07-09T17:14:14.846102Z"
    }
   },
   "outputs": []
  },
  {
   "cell_type": "code",
   "execution_count": 13,
   "source": [
    "# 显示所有的结果\n",
    "_, ax = plt.subplots()\n",
    "ax.plot(*single_polygon.exterior.xy, color='b')\n",
    "ax.plot(*combined_polygon.exterior.xy, color='gray')\n",
    "ax.set_aspect('equal')"
   ],
   "metadata": {
    "collapsed": false,
    "ExecuteTime": {
     "end_time": "2023-07-09T17:14:14.971870Z",
     "start_time": "2023-07-09T17:14:14.926132Z"
    }
   },
   "outputs": []
  },
  {
   "cell_type": "code",
   "execution_count": 14,
   "source": [
    "temp_path, temp_headland = CPP_Algorithms.scanline_algorithm_single_with_headland(single_polygon_regen, 1.45, False, 'both', headland_width)\n",
    "_, ax = plt.subplots()\n",
    "temp_headland.plot(ax=ax, color='gray')\n",
    "ax.plot(*single_polygon.exterior.xy, color='b')"
   ],
   "metadata": {
    "collapsed": false,
    "ExecuteTime": {
     "end_time": "2023-07-09T17:14:15.085899Z",
     "start_time": "2023-07-09T17:14:14.971380Z"
    }
   },
   "outputs": []
  },
  {
   "cell_type": "code",
   "execution_count": 15,
   "source": [
    "# 测试代码\n",
    "temp_path_2, temp_headland_2 = CPP_Algorithms.scanline_algorithm_single_with_headland_2(\n",
    "    single_polygon_regen, 1.45, False, 'both', headland_width\n",
    ")\n",
    "fig, ax = plt.subplots(dpi=300)\n",
    "ax.plot(*single_polygon.exterior.xy, color='b')\n",
    "temp_path_2.plot(ax=ax, color='y', linewidth=0.3)\n",
    "temp_headland_2.plot(ax=ax, color='#DD0000')"
   ],
   "metadata": {
    "collapsed": false,
    "ExecuteTime": {
     "end_time": "2023-07-09T17:14:15.163583Z",
     "start_time": "2023-07-09T17:14:15.060563Z"
    }
   },
   "outputs": []
  },
  {
   "cell_type": "code",
   "execution_count": 16,
   "source": [
    "single_polygon_2 = split_polygon[1]\n",
    "single_polygon_angle_2 = CPP_Planner_Kit.get_land_MABR_angle(single_polygon_2)\n",
    "single_polygon_2 = affinity.rotate(single_polygon_2, -single_polygon_angle_2, origin='centroid')\n",
    "single_polygon_regen_2 = gpd.GeoDataFrame(geometry=[single_polygon_2], crs=all_land.crs)\n",
    "temp_path_3, temp_headland_3 = CPP_Algorithms.scanline_algorithm_single_with_headland_2(\n",
    "    single_polygon_regen_2, 1.45, False, 'both', headland_width\n",
    ")\n",
    "fig, ax = plt.subplots()\n",
    "ax.plot(*single_polygon_2.exterior.xy, color='b')\n",
    "temp_path_3.plot(ax=ax, color='y', linewidth=0.3)\n",
    "temp_headland_3.plot(ax=ax, color='red')"
   ],
   "metadata": {
    "collapsed": false,
    "ExecuteTime": {
     "end_time": "2023-07-09T17:14:15.246212Z",
     "start_time": "2023-07-09T17:14:15.162126Z"
    }
   },
   "outputs": []
  },
  {
   "cell_type": "code",
   "execution_count": 20,
   "source": [
    "all_headland = []\n",
    "for i in temp_headland_2.geometry[0].geoms:\n",
    "    all_headland.append(i)\n",
    "for i in temp_headland_3.geometry[0].geoms:\n",
    "    all_headland.append(i)\n",
    "all_headland"
   ],
   "metadata": {
    "collapsed": false,
    "ExecuteTime": {
     "end_time": "2023-07-09T17:16:06.010652Z",
     "start_time": "2023-07-09T17:16:06.004971Z"
    }
   },
   "outputs": []
  },
  {
   "cell_type": "code",
   "execution_count": 21,
   "source": [
    "_, ax = plt.subplots()\n",
    "for poly in all_headland:\n",
    "    ax.plot(*poly.exterior.xy)"
   ],
   "metadata": {
    "collapsed": false,
    "ExecuteTime": {
     "end_time": "2023-07-09T17:16:31.754223Z",
     "start_time": "2023-07-09T17:16:31.690215Z"
    }
   },
   "outputs": []
  },
  {
   "cell_type": "code",
   "execution_count": null,
   "source": [],
   "metadata": {
    "collapsed": false
   },
   "outputs": []
  }
 ],
 "metadata": {
  "kernelspec": {
   "display_name": "Python 3",
   "language": "python",
   "name": "python3"
  },
  "language_info": {
   "codemirror_mode": {
    "name": "ipython",
    "version": 2
   },
   "file_extension": ".py",
   "mimetype": "text/x-python",
   "name": "python",
   "nbconvert_exporter": "python",
   "pygments_lexer": "ipython2",
   "version": "2.7.6"
  }
 },
 "nbformat": 4,
 "nbformat_minor": 0
}
