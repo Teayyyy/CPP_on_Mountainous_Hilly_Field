{
 "cells": [
  {
   "cell_type": "markdown",
   "source": [
    "## 这是用来测试 粒子群 算法拟合路径的文件"
   ],
   "metadata": {
    "collapsed": false
   },
   "id": "9a61360a6cf4aeaa"
  },
  {
   "cell_type": "code",
   "execution_count": 1,
   "source": [
    "import pandas as pd\n",
    "import numpy as np\n",
    "from pyswarm import pso\n",
    "from shapely import Point, LineString\n",
    "import geopandas as gpd\n",
    "import ast"
   ],
   "metadata": {
    "collapsed": false,
    "ExecuteTime": {
     "end_time": "2023-08-07T07:50:01.163270Z",
     "start_time": "2023-08-07T07:50:00.861100Z"
    }
   },
   "id": "ca1a5945844ac482",
   "outputs": []
  },
  {
   "cell_type": "code",
   "execution_count": 2,
   "source": [
    "data_path = '1m_precision_staiLine.csv'\n",
    "swath_path = '../Scratch/test_Load_Shp/test_shps/swath_group_1.shp'\n",
    "raw_data = pd.read_csv(data_path)\n",
    "real_swaths = gpd.read_file(swath_path)"
   ],
   "metadata": {
    "collapsed": false,
    "ExecuteTime": {
     "end_time": "2023-08-07T07:50:01.235956Z",
     "start_time": "2023-08-07T07:50:01.161813Z"
    }
   },
   "id": "32c1ca98f4ef1756",
   "outputs": []
  },
  {
   "cell_type": "code",
   "execution_count": 3,
   "source": [
    "# 处理 raw_data\n",
    "raw_data['height'] = raw_data['height'].apply(ast.literal_eval)\n",
    "raw_data['aspect'] = raw_data['aspect'].apply(ast.literal_eval)\n",
    "raw_data['slope'] = raw_data['slope'].apply(ast.literal_eval)\n",
    "data_array = raw_data.to_numpy()\n",
    "data_array"
   ],
   "metadata": {
    "collapsed": false,
    "ExecuteTime": {
     "end_time": "2023-08-07T07:50:04.078292Z",
     "start_time": "2023-08-07T07:50:03.958262Z"
    }
   },
   "id": "e90e42a4922f26f6",
   "outputs": []
  },
  {
   "cell_type": "code",
   "execution_count": 4,
   "source": [
    "# 适应度函数\n",
    "def fitness_function(lambdas, origin_x, origin_y, height, aspect, slope, labels):\n",
    "    aspect = np.deg2rad(aspect)\n",
    "    x_off = lambdas[0] * np.cos(aspect) * slope\n",
    "    y_off = lambdas[1] * np.sin(aspect) * slope\n",
    "    \n",
    "    # print('slope')\n",
    "    # print(slope)\n",
    "    # print('aspect')\n",
    "    # print(aspect)\n",
    "    # print('origin xy')\n",
    "    # print(origin_x)\n",
    "    # print(origin_y)\n",
    "    # print('off xy')\n",
    "    # print(x_off)\n",
    "    # print(y_off)\n",
    "    # print('lambdas shape')\n",
    "    # print(lambdas)\n",
    "    \n",
    "    distances = []\n",
    "    # new_x= origin_x + x_off\n",
    "    new_x = np.add(origin_x, x_off)\n",
    "    # new_y = origin_y + y_off\n",
    "    new_y = np.add(origin_y, y_off)\n",
    "    # print(new_x)\n",
    "    # print(new_y)\n",
    "    temp_point = Point(new_x, new_y)\n",
    "    temp_real_swath = real_swaths.geometry.iloc[labels]\n",
    "    distances = temp_point.distance(temp_real_swath)\n",
    "    # for x, y, label in zip(new_x, new_y, labels):\n",
    "    #     temp_point = Point(x, y)\n",
    "    #     temp_real_swath = real_swaths.geometry.iloc[label]\n",
    "    #     distances.append(temp_point.distance(temp_real_swath))\n",
    "    return np.mean(distances)"
   ],
   "metadata": {
    "collapsed": false,
    "ExecuteTime": {
     "end_time": "2023-08-07T07:50:06.135861Z",
     "start_time": "2023-08-07T07:50:06.131361Z"
    }
   },
   "id": "103cb227ebca8cb9",
   "outputs": []
  },
  {
   "cell_type": "code",
   "execution_count": 5,
   "source": [
    "# 读取参数\n",
    "origin_x = data_array[:, 0]\n",
    "origin_y = data_array[:, 1]\n",
    "height = data_array[:, 2]\n",
    "aspect = data_array[:, 3]\n",
    "slope = data_array[:, 4]\n",
    "labels = data_array[:, 5]\n",
    "[len(origin_x), len(origin_y), len(height), len(aspect), len(slope), len(labels)]"
   ],
   "metadata": {
    "collapsed": false,
    "ExecuteTime": {
     "end_time": "2023-08-07T07:50:08.005535Z",
     "start_time": "2023-08-07T07:50:07.982527Z"
    }
   },
   "id": "cffead08b28c89f3",
   "outputs": []
  },
  {
   "cell_type": "code",
   "execution_count": 6,
   "source": [
    "# 设定 lambdas 上下界\n",
    "lower_bound = [-1, -1]\n",
    "upper_bound = [1, 1]\n",
    "# 用 pso 进行优化\n",
    "# args = (origin_x, origin_y, height, aspect, slope, labels)\n",
    "# x_optimize, f_optimize = pso(fitness_function, lb=lower_bound, ub=upper_bound, args=args)\n",
    "# 处理数据\n",
    "results = []\n",
    "for i in range(len(raw_data)):\n",
    "    # 提取当前数据点的输入\n",
    "    origin_x = raw_data.loc[i, 'origin_x']\n",
    "    origin_y = raw_data.loc[i, 'origin_y']\n",
    "    height = raw_data.loc[i, 'height'][4]\n",
    "    aspect = raw_data.loc[i, 'aspect'][4]\n",
    "    slope = raw_data.loc[i, 'slope'][4]\n",
    "    label = raw_data.loc[i, 'label']\n",
    "\n",
    "    # 使用 PSO 进行优化\n",
    "    args = (origin_x, origin_y, height, aspect, slope, label)  # 需要传入适应度函数的额外参数\n",
    "    # print(args)\n",
    "    xopt, fopt = pso(fitness_function, lower_bound, upper_bound, args=args)\n",
    "\n",
    "    # 将结果存储起来\n",
    "    results.append((xopt, fopt))"
   ],
   "metadata": {
    "collapsed": false,
    "ExecuteTime": {
     "end_time": "2023-08-07T07:50:31.382983Z",
     "start_time": "2023-08-07T07:50:09.658458Z"
    }
   },
   "id": "79c0e679a8498720",
   "outputs": []
  },
  {
   "cell_type": "code",
   "execution_count": null,
   "source": [],
   "metadata": {
    "collapsed": false
   },
   "id": "3ce018a81859623e",
   "outputs": []
  }
 ],
 "metadata": {
  "kernelspec": {
   "display_name": "Python 3",
   "language": "python",
   "name": "python3"
  },
  "language_info": {
   "codemirror_mode": {
    "name": "ipython",
    "version": 2
   },
   "file_extension": ".py",
   "mimetype": "text/x-python",
   "name": "python",
   "nbconvert_exporter": "python",
   "pygments_lexer": "ipython2",
   "version": "2.7.6"
  }
 },
 "nbformat": 4,
 "nbformat_minor": 5
}
