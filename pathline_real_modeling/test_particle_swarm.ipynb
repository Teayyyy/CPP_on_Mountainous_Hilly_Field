{
 "cells": [
  {
   "cell_type": "markdown",
   "source": [
    "## 这是用来测试 粒子群 算法拟合路径的文件"
   ],
   "metadata": {
    "collapsed": false
   },
   "id": "9a61360a6cf4aeaa"
  },
  {
   "cell_type": "code",
   "execution_count": 1,
   "outputs": [],
   "source": [
    "import pandas as pd\n",
    "import numpy as np\n",
    "from pyswarm import pso\n",
    "from shapely import Point, LineString\n",
    "import geopandas as gpd\n",
    "import ast"
   ],
   "metadata": {
    "collapsed": false,
    "ExecuteTime": {
     "end_time": "2023-08-07T07:50:01.163270Z",
     "start_time": "2023-08-07T07:50:00.861100Z"
    }
   },
   "id": "ca1a5945844ac482"
  },
  {
   "cell_type": "code",
   "execution_count": 2,
   "outputs": [],
   "source": [
    "data_path = '1m_precision_staiLine.csv'\n",
    "swath_path = '../Scratch/test_Load_Shp/test_shps/swath_group_1.shp'\n",
    "raw_data = pd.read_csv(data_path)\n",
    "real_swaths = gpd.read_file(swath_path)"
   ],
   "metadata": {
    "collapsed": false,
    "ExecuteTime": {
     "end_time": "2023-08-07T07:50:01.235956Z",
     "start_time": "2023-08-07T07:50:01.161813Z"
    }
   },
   "id": "32c1ca98f4ef1756"
  },
  {
   "cell_type": "code",
   "execution_count": 3,
   "outputs": [
    {
     "data": {
      "text/plain": "array([[440345.9340906528, 4397532.697626984,\n        list([20617, 20577, 20558, 20601, 20581, 20551, 20594, 20578, 20549]),\n        list([136.49759, 125.403076, 127.29251, 103.172554, 98.36588, 104.03625, 89.43273, 97.74034, 106.4293]),\n        list([7.704224, 10.512283, 6.76528, 6.8809066, 7.343308, 5.0072403, 7.1958723, 7.403187, 5.804205]),\n        0],\n       [440346.4306018925, 4397531.829596691,\n        list([20581, 20551, 20548, 20578, 20549, 20534, 20565, 20545, 20530]),\n        list([98.36588, 104.03625, 125.942116, 97.74034, 106.4293, 119.81416, 106.18921, 105.395546, 107.47478]),\n        list([7.343308, 5.0072403, 3.53399, 7.403187, 5.804205, 3.668241, 8.038443, 5.1120825, 4.0478396]),\n        0],\n       [440346.9271131323, 4397530.961566399,\n        list([20581, 20551, 20548, 20578, 20549, 20534, 20565, 20545, 20530]),\n        list([98.36588, 104.03625, 125.942116, 97.74034, 106.4293, 119.81416, 106.18921, 105.395546, 107.47478]),\n        list([7.343308, 5.0072403, 3.53399, 7.403187, 5.804205, 3.668241, 8.038443, 5.1120825, 4.0478396]),\n        0],\n       ...,\n       [440429.747036692, 4397412.942024128,\n        list([20006, 20004, 19980, 20013, 20011, 19997, 20018, 20012, 19990]),\n        list([77.125, 68.00887, 71.19421, 57.094757, 66.16126, 75.57922, 60.03043, 92.16108, 88.78113]),\n        list([2.5696135, 4.009896, 6.9639273, 2.8979042, 3.3630214, 6.4432955, 5.644834, 3.7929964, 5.0373144]),\n        27],\n       [440430.24335048127, 4397412.073880924,\n        list([20011, 19997, 19966, 20012, 19990, 19974, 20008, 19989, 19988]),\n        list([66.16126, 75.57922, 73.84806, 92.16108, 88.78113, 73.68615, 74.62375, 80.362465, 81.224945]),\n        list([3.3630214, 6.4432955, 6.7905335, 3.7929964, 5.0373144, 6.096084, 5.9211106, 3.8444052, 5.38297]),\n        27],\n       [440430.7396642706, 4397411.20573772,\n        list([20011, 19997, 19966, 20012, 19990, 19974, 20008, 19989, 19988]),\n        list([66.16126, 75.57922, 73.84806, 92.16108, 88.78113, 73.68615, 74.62375, 80.362465, 81.224945]),\n        list([3.3630214, 6.4432955, 6.7905335, 3.7929964, 5.0373144, 6.096084, 5.9211106, 3.8444052, 5.38297]),\n        27]], dtype=object)"
     },
     "execution_count": 3,
     "metadata": {},
     "output_type": "execute_result"
    }
   ],
   "source": [
    "# 处理 raw_data\n",
    "raw_data['height'] = raw_data['height'].apply(ast.literal_eval)\n",
    "raw_data['aspect'] = raw_data['aspect'].apply(ast.literal_eval)\n",
    "raw_data['slope'] = raw_data['slope'].apply(ast.literal_eval)\n",
    "data_array = raw_data.to_numpy()\n",
    "data_array"
   ],
   "metadata": {
    "collapsed": false,
    "ExecuteTime": {
     "end_time": "2023-08-07T07:50:04.078292Z",
     "start_time": "2023-08-07T07:50:03.958262Z"
    }
   },
   "id": "e90e42a4922f26f6"
  },
  {
   "cell_type": "code",
   "execution_count": 4,
   "outputs": [],
   "source": [
    "# 适应度函数\n",
    "def fitness_function(lambdas, origin_x, origin_y, height, aspect, slope, labels):\n",
    "    aspect = np.deg2rad(aspect)\n",
    "    x_off = lambdas[0] * np.cos(aspect) * slope\n",
    "    y_off = lambdas[1] * np.sin(aspect) * slope\n",
    "    \n",
    "    # print('slope')\n",
    "    # print(slope)\n",
    "    # print('aspect')\n",
    "    # print(aspect)\n",
    "    # print('origin xy')\n",
    "    # print(origin_x)\n",
    "    # print(origin_y)\n",
    "    # print('off xy')\n",
    "    # print(x_off)\n",
    "    # print(y_off)\n",
    "    # print('lambdas shape')\n",
    "    # print(lambdas)\n",
    "    \n",
    "    distances = []\n",
    "    # new_x= origin_x + x_off\n",
    "    new_x = np.add(origin_x, x_off)\n",
    "    # new_y = origin_y + y_off\n",
    "    new_y = np.add(origin_y, y_off)\n",
    "    # print(new_x)\n",
    "    # print(new_y)\n",
    "    temp_point = Point(new_x, new_y)\n",
    "    temp_real_swath = real_swaths.geometry.iloc[labels]\n",
    "    distances = temp_point.distance(temp_real_swath)\n",
    "    # for x, y, label in zip(new_x, new_y, labels):\n",
    "    #     temp_point = Point(x, y)\n",
    "    #     temp_real_swath = real_swaths.geometry.iloc[label]\n",
    "    #     distances.append(temp_point.distance(temp_real_swath))\n",
    "    return np.mean(distances)"
   ],
   "metadata": {
    "collapsed": false,
    "ExecuteTime": {
     "end_time": "2023-08-07T07:50:06.135861Z",
     "start_time": "2023-08-07T07:50:06.131361Z"
    }
   },
   "id": "103cb227ebca8cb9"
  },
  {
   "cell_type": "code",
   "execution_count": 5,
   "outputs": [
    {
     "data": {
      "text/plain": "[2428, 2428, 2428, 2428, 2428, 2428]"
     },
     "execution_count": 5,
     "metadata": {},
     "output_type": "execute_result"
    }
   ],
   "source": [
    "# 读取参数\n",
    "origin_x = data_array[:, 0]\n",
    "origin_y = data_array[:, 1]\n",
    "height = data_array[:, 2]\n",
    "aspect = data_array[:, 3]\n",
    "slope = data_array[:, 4]\n",
    "labels = data_array[:, 5]\n",
    "[len(origin_x), len(origin_y), len(height), len(aspect), len(slope), len(labels)]"
   ],
   "metadata": {
    "collapsed": false,
    "ExecuteTime": {
     "end_time": "2023-08-07T07:50:08.005535Z",
     "start_time": "2023-08-07T07:50:07.982527Z"
    }
   },
   "id": "cffead08b28c89f3"
  },
  {
   "cell_type": "code",
   "execution_count": 6,
   "outputs": [
    {
     "name": "stdout",
     "output_type": "stream",
     "text": [
      "Stopping search: Swarm best objective change less than 1e-08\n",
      "Stopping search: Swarm best objective change less than 1e-08\n",
      "Stopping search: Swarm best objective change less than 1e-08\n",
      "Stopping search: Swarm best objective change less than 1e-08\n",
      "Stopping search: Swarm best objective change less than 1e-08\n",
      "Stopping search: Swarm best objective change less than 1e-08\n",
      "Stopping search: Swarm best objective change less than 1e-08\n",
      "Stopping search: Swarm best objective change less than 1e-08\n",
      "Stopping search: Swarm best objective change less than 1e-08\n",
      "Stopping search: Swarm best objective change less than 1e-08\n",
      "Stopping search: Swarm best objective change less than 1e-08\n",
      "Stopping search: Swarm best objective change less than 1e-08\n",
      "Stopping search: Swarm best objective change less than 1e-08\n",
      "Stopping search: Swarm best objective change less than 1e-08\n",
      "Stopping search: Swarm best objective change less than 1e-08\n",
      "Stopping search: Swarm best objective change less than 1e-08\n",
      "Stopping search: maximum iterations reached --> 100\n",
      "Stopping search: Swarm best objective change less than 1e-08\n",
      "Stopping search: Swarm best objective change less than 1e-08\n",
      "Stopping search: Swarm best objective change less than 1e-08\n",
      "Stopping search: Swarm best objective change less than 1e-08\n",
      "Stopping search: Swarm best objective change less than 1e-08\n",
      "Stopping search: Swarm best objective change less than 1e-08\n",
      "Stopping search: Swarm best objective change less than 1e-08\n",
      "Stopping search: Swarm best objective change less than 1e-08\n",
      "Stopping search: Swarm best objective change less than 1e-08\n",
      "Stopping search: Swarm best objective change less than 1e-08\n",
      "Stopping search: Swarm best objective change less than 1e-08\n",
      "Stopping search: Swarm best objective change less than 1e-08\n",
      "Stopping search: Swarm best objective change less than 1e-08\n",
      "Stopping search: Swarm best objective change less than 1e-08\n",
      "Stopping search: Swarm best objective change less than 1e-08\n",
      "Stopping search: Swarm best objective change less than 1e-08\n",
      "Stopping search: Swarm best objective change less than 1e-08\n",
      "Stopping search: Swarm best objective change less than 1e-08\n",
      "Stopping search: Swarm best objective change less than 1e-08\n",
      "Stopping search: Swarm best objective change less than 1e-08\n",
      "Stopping search: Swarm best objective change less than 1e-08\n",
      "Stopping search: Swarm best objective change less than 1e-08\n",
      "Stopping search: Swarm best objective change less than 1e-08\n",
      "Stopping search: Swarm best objective change less than 1e-08\n",
      "Stopping search: Swarm best objective change less than 1e-08\n",
      "Stopping search: Swarm best objective change less than 1e-08\n",
      "Stopping search: Swarm best objective change less than 1e-08\n",
      "Stopping search: Swarm best objective change less than 1e-08\n",
      "Stopping search: Swarm best objective change less than 1e-08\n",
      "Stopping search: Swarm best objective change less than 1e-08\n",
      "Stopping search: Swarm best objective change less than 1e-08\n",
      "Stopping search: Swarm best position change less than 1e-08\n",
      "Stopping search: Swarm best objective change less than 1e-08\n",
      "Stopping search: Swarm best objective change less than 1e-08\n",
      "Stopping search: Swarm best objective change less than 1e-08\n",
      "Stopping search: Swarm best objective change less than 1e-08\n",
      "Stopping search: Swarm best objective change less than 1e-08\n",
      "Stopping search: Swarm best objective change less than 1e-08\n",
      "Stopping search: Swarm best objective change less than 1e-08\n",
      "Stopping search: Swarm best objective change less than 1e-08\n",
      "Stopping search: Swarm best objective change less than 1e-08\n",
      "Stopping search: Swarm best objective change less than 1e-08\n",
      "Stopping search: Swarm best objective change less than 1e-08\n",
      "Stopping search: Swarm best objective change less than 1e-08\n",
      "Stopping search: Swarm best objective change less than 1e-08\n",
      "Stopping search: Swarm best objective change less than 1e-08\n",
      "Stopping search: Swarm best objective change less than 1e-08\n",
      "Stopping search: Swarm best objective change less than 1e-08\n",
      "Stopping search: Swarm best objective change less than 1e-08\n",
      "Stopping search: Swarm best objective change less than 1e-08\n",
      "Stopping search: Swarm best objective change less than 1e-08\n",
      "Stopping search: Swarm best objective change less than 1e-08\n",
      "Stopping search: Swarm best objective change less than 1e-08\n",
      "Stopping search: Swarm best objective change less than 1e-08\n",
      "Stopping search: Swarm best objective change less than 1e-08\n",
      "Stopping search: Swarm best objective change less than 1e-08\n",
      "Stopping search: Swarm best objective change less than 1e-08\n",
      "Stopping search: Swarm best objective change less than 1e-08\n",
      "Stopping search: Swarm best objective change less than 1e-08\n",
      "Stopping search: Swarm best objective change less than 1e-08\n",
      "Stopping search: Swarm best objective change less than 1e-08\n",
      "Stopping search: Swarm best objective change less than 1e-08\n",
      "Stopping search: Swarm best objective change less than 1e-08\n",
      "Stopping search: Swarm best objective change less than 1e-08\n",
      "Stopping search: Swarm best objective change less than 1e-08\n",
      "Stopping search: Swarm best objective change less than 1e-08\n",
      "Stopping search: Swarm best objective change less than 1e-08\n",
      "Stopping search: Swarm best objective change less than 1e-08\n",
      "Stopping search: Swarm best objective change less than 1e-08\n",
      "Stopping search: Swarm best objective change less than 1e-08\n",
      "Stopping search: Swarm best objective change less than 1e-08\n",
      "Stopping search: Swarm best objective change less than 1e-08\n",
      "Stopping search: Swarm best objective change less than 1e-08\n",
      "Stopping search: Swarm best objective change less than 1e-08\n",
      "Stopping search: Swarm best objective change less than 1e-08\n",
      "Stopping search: Swarm best objective change less than 1e-08\n",
      "Stopping search: Swarm best objective change less than 1e-08\n",
      "Stopping search: Swarm best objective change less than 1e-08\n",
      "Stopping search: Swarm best objective change less than 1e-08\n",
      "Stopping search: Swarm best objective change less than 1e-08\n",
      "Stopping search: Swarm best objective change less than 1e-08\n",
      "Stopping search: Swarm best objective change less than 1e-08\n",
      "Stopping search: Swarm best objective change less than 1e-08\n",
      "Stopping search: Swarm best objective change less than 1e-08\n",
      "Stopping search: Swarm best objective change less than 1e-08\n",
      "Stopping search: Swarm best objective change less than 1e-08\n",
      "Stopping search: Swarm best objective change less than 1e-08\n",
      "Stopping search: Swarm best objective change less than 1e-08\n",
      "Stopping search: Swarm best objective change less than 1e-08\n",
      "Stopping search: Swarm best objective change less than 1e-08\n",
      "Stopping search: Swarm best objective change less than 1e-08\n",
      "Stopping search: Swarm best objective change less than 1e-08\n",
      "Stopping search: Swarm best objective change less than 1e-08\n",
      "Stopping search: Swarm best objective change less than 1e-08\n",
      "Stopping search: Swarm best objective change less than 1e-08\n",
      "Stopping search: Swarm best objective change less than 1e-08\n",
      "Stopping search: Swarm best objective change less than 1e-08\n",
      "Stopping search: Swarm best objective change less than 1e-08\n",
      "Stopping search: Swarm best objective change less than 1e-08\n",
      "Stopping search: Swarm best objective change less than 1e-08\n",
      "Stopping search: Swarm best objective change less than 1e-08\n",
      "Stopping search: Swarm best objective change less than 1e-08\n",
      "Stopping search: Swarm best objective change less than 1e-08\n",
      "Stopping search: Swarm best objective change less than 1e-08\n",
      "Stopping search: Swarm best objective change less than 1e-08\n",
      "Stopping search: Swarm best objective change less than 1e-08\n",
      "Stopping search: Swarm best objective change less than 1e-08\n",
      "Stopping search: Swarm best objective change less than 1e-08\n",
      "Stopping search: Swarm best objective change less than 1e-08\n",
      "Stopping search: Swarm best objective change less than 1e-08\n",
      "Stopping search: Swarm best objective change less than 1e-08\n",
      "Stopping search: Swarm best objective change less than 1e-08\n"
     ]
    },
    {
     "ename": "KeyboardInterrupt",
     "evalue": "",
     "output_type": "error",
     "traceback": [
      "\u001B[0;31m---------------------------------------------------------------------------\u001B[0m",
      "\u001B[0;31mKeyboardInterrupt\u001B[0m                         Traceback (most recent call last)",
      "Cell \u001B[0;32mIn[6], line 21\u001B[0m\n\u001B[1;32m     19\u001B[0m args \u001B[38;5;241m=\u001B[39m (origin_x, origin_y, height, aspect, slope, label)  \u001B[38;5;66;03m# 需要传入适应度函数的额外参数\u001B[39;00m\n\u001B[1;32m     20\u001B[0m \u001B[38;5;66;03m# print(args)\u001B[39;00m\n\u001B[0;32m---> 21\u001B[0m xopt, fopt \u001B[38;5;241m=\u001B[39m \u001B[43mpso\u001B[49m\u001B[43m(\u001B[49m\u001B[43mfitness_function\u001B[49m\u001B[43m,\u001B[49m\u001B[43m \u001B[49m\u001B[43mlower_bound\u001B[49m\u001B[43m,\u001B[49m\u001B[43m \u001B[49m\u001B[43mupper_bound\u001B[49m\u001B[43m,\u001B[49m\u001B[43m \u001B[49m\u001B[43margs\u001B[49m\u001B[38;5;241;43m=\u001B[39;49m\u001B[43margs\u001B[49m\u001B[43m)\u001B[49m\n\u001B[1;32m     23\u001B[0m \u001B[38;5;66;03m# 将结果存储起来\u001B[39;00m\n\u001B[1;32m     24\u001B[0m results\u001B[38;5;241m.\u001B[39mappend((xopt, fopt))\n",
      "File \u001B[0;32m~/miniforge3/envs/ML/lib/python3.9/site-packages/pyswarm/pso.py:145\u001B[0m, in \u001B[0;36mpso\u001B[0;34m(func, lb, ub, ieqcons, f_ieqcons, args, kwargs, swarmsize, omega, phip, phig, maxiter, minstep, minfunc, debug)\u001B[0m\n\u001B[1;32m    143\u001B[0m x[i, mark1] \u001B[38;5;241m=\u001B[39m lb[mark1]\n\u001B[1;32m    144\u001B[0m x[i, mark2] \u001B[38;5;241m=\u001B[39m ub[mark2]\n\u001B[0;32m--> 145\u001B[0m fx \u001B[38;5;241m=\u001B[39m \u001B[43mobj\u001B[49m\u001B[43m(\u001B[49m\u001B[43mx\u001B[49m\u001B[43m[\u001B[49m\u001B[43mi\u001B[49m\u001B[43m,\u001B[49m\u001B[43m \u001B[49m\u001B[43m:\u001B[49m\u001B[43m]\u001B[49m\u001B[43m)\u001B[49m\n\u001B[1;32m    147\u001B[0m \u001B[38;5;66;03m# Compare particle's best position (if constraints are satisfied)\u001B[39;00m\n\u001B[1;32m    148\u001B[0m \u001B[38;5;28;01mif\u001B[39;00m fx\u001B[38;5;241m<\u001B[39mfp[i] \u001B[38;5;129;01mand\u001B[39;00m is_feasible(x[i, :]):\n",
      "File \u001B[0;32m~/miniforge3/envs/ML/lib/python3.9/site-packages/pyswarm/pso.py:74\u001B[0m, in \u001B[0;36mpso.<locals>.<lambda>\u001B[0;34m(x)\u001B[0m\n\u001B[1;32m     71\u001B[0m vlow \u001B[38;5;241m=\u001B[39m \u001B[38;5;241m-\u001B[39mvhigh\n\u001B[1;32m     73\u001B[0m \u001B[38;5;66;03m# Check for constraint function(s) #########################################\u001B[39;00m\n\u001B[0;32m---> 74\u001B[0m obj \u001B[38;5;241m=\u001B[39m \u001B[38;5;28;01mlambda\u001B[39;00m x: \u001B[43mfunc\u001B[49m\u001B[43m(\u001B[49m\u001B[43mx\u001B[49m\u001B[43m,\u001B[49m\u001B[43m \u001B[49m\u001B[38;5;241;43m*\u001B[39;49m\u001B[43margs\u001B[49m\u001B[43m,\u001B[49m\u001B[43m \u001B[49m\u001B[38;5;241;43m*\u001B[39;49m\u001B[38;5;241;43m*\u001B[39;49m\u001B[43mkwargs\u001B[49m\u001B[43m)\u001B[49m\n\u001B[1;32m     75\u001B[0m \u001B[38;5;28;01mif\u001B[39;00m f_ieqcons \u001B[38;5;129;01mis\u001B[39;00m \u001B[38;5;28;01mNone\u001B[39;00m:\n\u001B[1;32m     76\u001B[0m     \u001B[38;5;28;01mif\u001B[39;00m \u001B[38;5;129;01mnot\u001B[39;00m \u001B[38;5;28mlen\u001B[39m(ieqcons):\n",
      "Cell \u001B[0;32mIn[4], line 27\u001B[0m, in \u001B[0;36mfitness_function\u001B[0;34m(lambdas, origin_x, origin_y, height, aspect, slope, labels)\u001B[0m\n\u001B[1;32m     24\u001B[0m new_y \u001B[38;5;241m=\u001B[39m np\u001B[38;5;241m.\u001B[39madd(origin_y, y_off)\n\u001B[1;32m     25\u001B[0m \u001B[38;5;66;03m# print(new_x)\u001B[39;00m\n\u001B[1;32m     26\u001B[0m \u001B[38;5;66;03m# print(new_y)\u001B[39;00m\n\u001B[0;32m---> 27\u001B[0m temp_point \u001B[38;5;241m=\u001B[39m \u001B[43mPoint\u001B[49m\u001B[43m(\u001B[49m\u001B[43mnew_x\u001B[49m\u001B[43m,\u001B[49m\u001B[43m \u001B[49m\u001B[43mnew_y\u001B[49m\u001B[43m)\u001B[49m\n\u001B[1;32m     28\u001B[0m temp_real_swath \u001B[38;5;241m=\u001B[39m real_swaths\u001B[38;5;241m.\u001B[39mgeometry\u001B[38;5;241m.\u001B[39miloc[labels]\n\u001B[1;32m     29\u001B[0m distances \u001B[38;5;241m=\u001B[39m temp_point\u001B[38;5;241m.\u001B[39mdistance(temp_real_swath)\n",
      "File \u001B[0;32m~/miniforge3/envs/ML/lib/python3.9/site-packages/shapely/geometry/point.py:76\u001B[0m, in \u001B[0;36mPoint.__new__\u001B[0;34m(self, *args)\u001B[0m\n\u001B[1;32m     72\u001B[0m \u001B[38;5;28;01mif\u001B[39;00m coords\u001B[38;5;241m.\u001B[39mndim \u001B[38;5;241m>\u001B[39m \u001B[38;5;241m1\u001B[39m:\n\u001B[1;32m     73\u001B[0m     \u001B[38;5;28;01mraise\u001B[39;00m \u001B[38;5;167;01mValueError\u001B[39;00m(\n\u001B[1;32m     74\u001B[0m         \u001B[38;5;124mf\u001B[39m\u001B[38;5;124m\"\u001B[39m\u001B[38;5;124mPoint() takes only scalar or 1-size vector arguments, got \u001B[39m\u001B[38;5;132;01m{\u001B[39;00margs\u001B[38;5;132;01m}\u001B[39;00m\u001B[38;5;124m\"\u001B[39m\n\u001B[1;32m     75\u001B[0m     )\n\u001B[0;32m---> 76\u001B[0m \u001B[38;5;28;01mif\u001B[39;00m \u001B[38;5;129;01mnot\u001B[39;00m np\u001B[38;5;241m.\u001B[39missubdtype(\u001B[43mcoords\u001B[49m\u001B[38;5;241;43m.\u001B[39;49m\u001B[43mdtype\u001B[49m, np\u001B[38;5;241m.\u001B[39mnumber):\n\u001B[1;32m     77\u001B[0m     coords \u001B[38;5;241m=\u001B[39m [\u001B[38;5;28mfloat\u001B[39m(c) \u001B[38;5;28;01mfor\u001B[39;00m c \u001B[38;5;129;01min\u001B[39;00m coords]\n\u001B[1;32m     78\u001B[0m geom \u001B[38;5;241m=\u001B[39m shapely\u001B[38;5;241m.\u001B[39mpoints(coords)\n",
      "\u001B[0;31mKeyboardInterrupt\u001B[0m: "
     ]
    }
   ],
   "source": [
    "# 设定 lambdas 上下界\n",
    "lower_bound = [-1, -1]\n",
    "upper_bound = [1, 1]\n",
    "# 用 pso 进行优化\n",
    "# args = (origin_x, origin_y, height, aspect, slope, labels)\n",
    "# x_optimize, f_optimize = pso(fitness_function, lb=lower_bound, ub=upper_bound, args=args)\n",
    "# 处理数据\n",
    "results = []\n",
    "for i in range(len(raw_data)):\n",
    "    # 提取当前数据点的输入\n",
    "    origin_x = raw_data.loc[i, 'origin_x']\n",
    "    origin_y = raw_data.loc[i, 'origin_y']\n",
    "    height = raw_data.loc[i, 'height'][4]\n",
    "    aspect = raw_data.loc[i, 'aspect'][4]\n",
    "    slope = raw_data.loc[i, 'slope'][4]\n",
    "    label = raw_data.loc[i, 'label']\n",
    "\n",
    "    # 使用 PSO 进行优化\n",
    "    args = (origin_x, origin_y, height, aspect, slope, label)  # 需要传入适应度函数的额外参数\n",
    "    # print(args)\n",
    "    xopt, fopt = pso(fitness_function, lower_bound, upper_bound, args=args)\n",
    "\n",
    "    # 将结果存储起来\n",
    "    results.append((xopt, fopt))"
   ],
   "metadata": {
    "collapsed": false,
    "ExecuteTime": {
     "end_time": "2023-08-07T07:50:31.382983Z",
     "start_time": "2023-08-07T07:50:09.658458Z"
    }
   },
   "id": "79c0e679a8498720"
  },
  {
   "cell_type": "code",
   "execution_count": null,
   "outputs": [],
   "source": [],
   "metadata": {
    "collapsed": false
   },
   "id": "3ce018a81859623e"
  }
 ],
 "metadata": {
  "kernelspec": {
   "display_name": "Python 3",
   "language": "python",
   "name": "python3"
  },
  "language_info": {
   "codemirror_mode": {
    "name": "ipython",
    "version": 2
   },
   "file_extension": ".py",
   "mimetype": "text/x-python",
   "name": "python",
   "nbconvert_exporter": "python",
   "pygments_lexer": "ipython2",
   "version": "2.7.6"
  }
 },
 "nbformat": 4,
 "nbformat_minor": 5
}
