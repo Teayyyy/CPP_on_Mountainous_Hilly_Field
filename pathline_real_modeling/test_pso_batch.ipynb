{
 "cells": [
  {
   "cell_type": "code",
   "execution_count": 88,
   "id": "initial_id",
   "metadata": {
    "collapsed": true,
    "ExecuteTime": {
     "end_time": "2023-08-07T09:04:57.428270Z",
     "start_time": "2023-08-07T09:04:57.333771Z"
    }
   },
   "source": [
    "import pandas as pd\n",
    "import numpy as np\n",
    "from pyswarm import pso\n",
    "from shapely import Point, LineString\n",
    "import geopandas as gpd\n",
    "import matplotlib.pyplot as plt"
   ],
   "outputs": []
  },
  {
   "cell_type": "code",
   "execution_count": 89,
   "source": [
    "data_path = '1m_precision_staiLine_11.csv'\n",
    "swath_path = '../Scratch/test_Load_Shp/test_shps/swath_group_1.shp'\n",
    "raw_data = pd.read_csv(data_path)\n",
    "real_swath = gpd.read_file(swath_path)"
   ],
   "metadata": {
    "collapsed": false,
    "ExecuteTime": {
     "end_time": "2023-08-07T09:04:57.580731Z",
     "start_time": "2023-08-07T09:04:57.440684Z"
    }
   },
   "id": "3a249e1e1afaefbc",
   "outputs": []
  },
  {
   "cell_type": "code",
   "execution_count": 90,
   "source": [
    "# 处理 raw_data\n",
    "# raw_data['height'] = raw_data['height'].apply(ast.literal_eval)\n",
    "# raw_data['aspect'] = raw_data['aspect'].apply(ast.literal_eval)\n",
    "# raw_data['slope'] = raw_data['slope'].apply(ast.literal_eval)\n",
    "data_array = raw_data.to_numpy()\n",
    "data_array"
   ],
   "metadata": {
    "collapsed": false,
    "ExecuteTime": {
     "end_time": "2023-08-07T09:04:57.730958Z",
     "start_time": "2023-08-07T09:04:57.594344Z"
    }
   },
   "id": "6646eb239e0854bc",
   "outputs": []
  },
  {
   "cell_type": "code",
   "execution_count": 91,
   "source": [
    "# 测试随机取出 \n",
    "random_sample = np.random.choice(data_array.shape[0], 20, replace=False)\n",
    "random_sample = data_array[random_sample]\n",
    "random_sample"
   ],
   "metadata": {
    "collapsed": false,
    "ExecuteTime": {
     "end_time": "2023-08-07T09:04:57.844240Z",
     "start_time": "2023-08-07T09:04:57.743873Z"
    }
   },
   "id": "23989a6208d08a44",
   "outputs": []
  },
  {
   "cell_type": "code",
   "execution_count": 97,
   "source": [
    "def fitness_function(lambdas, origin_x, origin_y, height, aspect, slope, labels):\n",
    "    # 将 aspect 转换为 弧度值\n",
    "    aspect = np.deg2rad(aspect)\n",
    "    x_off = lambdas[0] * np.cos(aspect) * slope\n",
    "    y_off = lambdas[1] * np.cos(aspect) * slope\n",
    "    \n",
    "    new_x = origin_x + x_off\n",
    "    new_y = origin_y + y_off\n",
    "    \n",
    "    # optimize\n",
    "    distances = []\n",
    "    for temp_x, temp_y, label in zip(new_x, new_y, labels):\n",
    "        temp_point = Point(temp_x, temp_y)\n",
    "        temp_real_swath = real_swath.geometry.iloc[label]\n",
    "        distances.append(temp_point.distance(temp_real_swath))\n",
    "    return np.mean(distances)"
   ],
   "metadata": {
    "collapsed": false,
    "ExecuteTime": {
     "end_time": "2023-08-07T09:30:03.995297Z",
     "start_time": "2023-08-07T09:30:03.991272Z"
    }
   },
   "id": "1f7b241a352edc77",
   "outputs": []
  },
  {
   "cell_type": "code",
   "execution_count": 99,
   "source": [
    "lower_bound, upper_bound = [-1, -1], [1, 1]\n",
    "results = []\n",
    "EPOCH = 2\n",
    "SAMPLE_BATCH=200\n",
    "\n",
    "for i in range(EPOCH):\n",
    "    print('---------------Epoch: {}---------------'.format(i))\n",
    "    # random choice sample data\n",
    "    random_sample = np.random.choice(data_array.shape[0], SAMPLE_BATCH, replace=True)\n",
    "    random_sample = data_array[random_sample]\n",
    "    # read data from random sample\n",
    "    batch_origin_x = random_sample[:, 0]\n",
    "    batch_origin_y = random_sample[:, 1]\n",
    "    batch_height = random_sample[:, 2]\n",
    "    batch_aspect = random_sample[:, 3]\n",
    "    batch_slope = random_sample[:, 4]\n",
    "    batch_labels = random_sample[:, 5].astype(np.int32)\n",
    "    \n",
    "    args = (batch_origin_x, batch_origin_y, batch_height, batch_aspect, batch_slope, batch_labels)\n",
    "    xopt, fopt = pso(fitness_function, lower_bound, upper_bound, args=args)\n",
    "    # showing temp result\n",
    "    print('Optimized offs: ', xopt)\n",
    "    print('Fopt: ', fopt)\n",
    "    results.append((xopt, fopt))"
   ],
   "metadata": {
    "collapsed": false,
    "ExecuteTime": {
     "end_time": "2023-08-07T09:30:47.600943Z",
     "start_time": "2023-08-07T09:30:26.829793Z"
    }
   },
   "id": "90ce4d87774d508c",
   "outputs": []
  },
  {
   "cell_type": "code",
   "execution_count": 100,
   "source": [
    "new_results = np.array(results)\n",
    "new_results"
   ],
   "metadata": {
    "collapsed": false,
    "ExecuteTime": {
     "end_time": "2023-08-07T09:31:03.356460Z",
     "start_time": "2023-08-07T09:31:03.348243Z"
    }
   },
   "id": "3b4015f97380f360",
   "outputs": []
  },
  {
   "cell_type": "code",
   "execution_count": 101,
   "source": [
    "plt.plot(new_results[:, 1])"
   ],
   "metadata": {
    "collapsed": false,
    "ExecuteTime": {
     "end_time": "2023-08-07T09:31:04.049713Z",
     "start_time": "2023-08-07T09:31:03.945004Z"
    }
   },
   "id": "a83d4c2f4c3ba584",
   "outputs": []
  },
  {
   "cell_type": "code",
   "execution_count": 104,
   "source": [],
   "metadata": {
    "collapsed": false,
    "ExecuteTime": {
     "end_time": "2023-08-07T09:31:23.348375Z",
     "start_time": "2023-08-07T09:31:23.345148Z"
    }
   },
   "id": "42f0b03fdd07aac1",
   "outputs": []
  },
  {
   "cell_type": "code",
   "execution_count": null,
   "source": [],
   "metadata": {
    "collapsed": false,
    "ExecuteTime": {
     "start_time": "2023-08-07T09:05:18.195266Z"
    }
   },
   "id": "8baa6228e0eefa88",
   "outputs": []
  }
 ],
 "metadata": {
  "kernelspec": {
   "display_name": "Python 3",
   "language": "python",
   "name": "python3"
  },
  "language_info": {
   "codemirror_mode": {
    "name": "ipython",
    "version": 2
   },
   "file_extension": ".py",
   "mimetype": "text/x-python",
   "name": "python",
   "nbconvert_exporter": "python",
   "pygments_lexer": "ipython2",
   "version": "2.7.6"
  }
 },
 "nbformat": 4,
 "nbformat_minor": 5
}
