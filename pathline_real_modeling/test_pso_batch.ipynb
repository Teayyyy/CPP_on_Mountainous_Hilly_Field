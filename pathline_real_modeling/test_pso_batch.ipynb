{
 "cells": [
  {
   "cell_type": "code",
   "execution_count": 88,
   "id": "initial_id",
   "metadata": {
    "collapsed": true,
    "ExecuteTime": {
     "end_time": "2023-08-07T09:04:57.428270Z",
     "start_time": "2023-08-07T09:04:57.333771Z"
    }
   },
   "outputs": [],
   "source": [
    "import pandas as pd\n",
    "import numpy as np\n",
    "from pyswarm import pso\n",
    "from shapely import Point, LineString\n",
    "import geopandas as gpd\n",
    "import matplotlib.pyplot as plt"
   ]
  },
  {
   "cell_type": "code",
   "execution_count": 89,
   "outputs": [],
   "source": [
    "data_path = '1m_precision_staiLine_11.csv'\n",
    "swath_path = '../Scratch/test_Load_Shp/test_shps/swath_group_1.shp'\n",
    "raw_data = pd.read_csv(data_path)\n",
    "real_swath = gpd.read_file(swath_path)"
   ],
   "metadata": {
    "collapsed": false,
    "ExecuteTime": {
     "end_time": "2023-08-07T09:04:57.580731Z",
     "start_time": "2023-08-07T09:04:57.440684Z"
    }
   },
   "id": "3a249e1e1afaefbc"
  },
  {
   "cell_type": "code",
   "execution_count": 90,
   "outputs": [
    {
     "data": {
      "text/plain": "array([[4.40345934e+05, 4.39753270e+06, 2.05810000e+04, 9.83658800e+01,\n        7.34330800e+00, 0.00000000e+00],\n       [4.40346431e+05, 4.39753183e+06, 2.05490000e+04, 1.06429300e+02,\n        5.80420500e+00, 0.00000000e+00],\n       [4.40346927e+05, 4.39753096e+06, 2.05490000e+04, 1.06429300e+02,\n        5.80420500e+00, 0.00000000e+00],\n       ...,\n       [4.40429747e+05, 4.39741294e+06, 2.00110000e+04, 6.61612600e+01,\n        3.36302140e+00, 2.70000000e+01],\n       [4.40430243e+05, 4.39741207e+06, 1.99900000e+04, 8.87811300e+01,\n        5.03731440e+00, 2.70000000e+01],\n       [4.40430740e+05, 4.39741121e+06, 1.99900000e+04, 8.87811300e+01,\n        5.03731440e+00, 2.70000000e+01]])"
     },
     "execution_count": 90,
     "metadata": {},
     "output_type": "execute_result"
    }
   ],
   "source": [
    "# 处理 raw_data\n",
    "# raw_data['height'] = raw_data['height'].apply(ast.literal_eval)\n",
    "# raw_data['aspect'] = raw_data['aspect'].apply(ast.literal_eval)\n",
    "# raw_data['slope'] = raw_data['slope'].apply(ast.literal_eval)\n",
    "data_array = raw_data.to_numpy()\n",
    "data_array"
   ],
   "metadata": {
    "collapsed": false,
    "ExecuteTime": {
     "end_time": "2023-08-07T09:04:57.730958Z",
     "start_time": "2023-08-07T09:04:57.594344Z"
    }
   },
   "id": "6646eb239e0854bc"
  },
  {
   "cell_type": "code",
   "execution_count": 91,
   "outputs": [
    {
     "data": {
      "text/plain": "array([[4.40358683e+05, 4.39756039e+06, 2.03410000e+04, 7.65859000e+01,\n        8.73039200e+00, 2.00000000e+01],\n       [4.40403695e+05, 4.39743928e+06, 2.01570000e+04, 7.66397800e+01,\n        5.86834670e+00, 3.00000000e+00],\n       [4.40377386e+05, 4.39749625e+06, 2.02520000e+04, 5.40747570e+01,\n        7.34450400e+00, 7.00000000e+00],\n       [4.40386314e+05, 4.39747728e+06, 2.02480000e+04, 9.00000000e+01,\n        4.21792750e+00, 6.00000000e+00],\n       [4.40411880e+05, 4.39744420e+06, 2.00840000e+04, 7.82317100e+01,\n        3.50717140e+00, 2.70000000e+01],\n       [4.40383449e+05, 4.39746957e+06, 2.02860000e+04, 7.33007600e+01,\n        3.73336670e+00, 1.00000000e+00],\n       [4.40414214e+05, 4.39742581e+06, 2.01090000e+04, 8.33333400e+01,\n        2.77396100e+00, 5.00000000e+00],\n       [4.40378596e+05, 4.39749757e+06, 2.02190000e+04, 3.97187580e+01,\n        6.02982430e+00, 9.00000000e+00],\n       [4.40360829e+05, 4.39750666e+06, 2.04040000e+04, 8.83634300e+01,\n        3.75617960e+00, 0.00000000e+00],\n       [4.40420813e+05, 4.39742857e+06, 2.00610000e+04, 6.98552400e+01,\n        7.54656360e+00, 2.70000000e+01],\n       [4.40355282e+05, 4.39755650e+06, 2.04930000e+04, 6.35447120e+01,\n        1.62676350e+01, 1.60000000e+01],\n       [4.40374869e+05, 4.39752278e+06, 2.03150000e+04, 1.04194740e+02,\n        1.23632760e+01, 1.60000000e+01],\n       [4.40401838e+05, 4.39744753e+06, 2.01550000e+04, 7.78113600e+01,\n        4.56974940e+00, 5.00000000e+00],\n       [4.40353453e+05, 4.39755237e+06, 2.05250000e+04, 9.33664600e+01,\n        4.86682100e+00, 1.30000000e+01],\n       [4.40408154e+05, 4.39743146e+06, 2.01230000e+04, 6.21524200e+01,\n        4.28499700e+00, 3.00000000e+00],\n       [4.40397339e+05, 4.39744526e+06, 2.01930000e+04, 7.71372450e+01,\n        4.65464640e+00, 1.00000000e+00],\n       [4.40391412e+05, 4.39747747e+06, 2.02050000e+04, 8.42558440e+01,\n        6.05971300e+00, 2.60000000e+01],\n       [4.40382589e+05, 4.39747874e+06, 2.02670000e+04, 8.21168600e+01,\n        4.68919700e+00, 4.00000000e+00],\n       [4.40395402e+05, 4.39745883e+06, 2.01960000e+04, 7.80558240e+01,\n        3.80105450e+00, 5.00000000e+00],\n       [4.40378428e+05, 4.39748358e+06, 2.03050000e+04, 6.54223300e+01,\n        5.06645540e+00, 3.00000000e+00]])"
     },
     "execution_count": 91,
     "metadata": {},
     "output_type": "execute_result"
    }
   ],
   "source": [
    "# 测试随机取出 \n",
    "random_sample = np.random.choice(data_array.shape[0], 20, replace=False)\n",
    "random_sample = data_array[random_sample]\n",
    "random_sample"
   ],
   "metadata": {
    "collapsed": false,
    "ExecuteTime": {
     "end_time": "2023-08-07T09:04:57.844240Z",
     "start_time": "2023-08-07T09:04:57.743873Z"
    }
   },
   "id": "23989a6208d08a44"
  },
  {
   "cell_type": "code",
   "execution_count": 97,
   "outputs": [],
   "source": [
    "def fitness_function(lambdas, origin_x, origin_y, height, aspect, slope, labels):\n",
    "    # 将 aspect 转换为 弧度值\n",
    "    aspect = np.deg2rad(aspect)\n",
    "    x_off = lambdas[0] * np.cos(aspect) * slope\n",
    "    y_off = lambdas[1] * np.cos(aspect) * slope\n",
    "    \n",
    "    new_x = origin_x + x_off\n",
    "    new_y = origin_y + y_off\n",
    "    \n",
    "    # optimize\n",
    "    distances = []\n",
    "    for temp_x, temp_y, label in zip(new_x, new_y, labels):\n",
    "        temp_point = Point(temp_x, temp_y)\n",
    "        temp_real_swath = real_swath.geometry.iloc[label]\n",
    "        distances.append(temp_point.distance(temp_real_swath))\n",
    "    return np.mean(distances)"
   ],
   "metadata": {
    "collapsed": false,
    "ExecuteTime": {
     "end_time": "2023-08-07T09:30:03.995297Z",
     "start_time": "2023-08-07T09:30:03.991272Z"
    }
   },
   "id": "1f7b241a352edc77"
  },
  {
   "cell_type": "code",
   "execution_count": 99,
   "outputs": [
    {
     "name": "stdout",
     "output_type": "stream",
     "text": [
      "---------------Epoch: 0---------------\n",
      "Stopping search: Swarm best objective change less than 1e-08\n",
      "Optimized offs:  [-0.08525666  0.14042479]\n",
      "Fopt:  0.40352814607014514\n",
      "---------------Epoch: 1---------------\n",
      "Stopping search: Swarm best objective change less than 1e-08\n",
      "Optimized offs:  [-0.00977994 -0.00414468]\n",
      "Fopt:  0.3729750182225022\n"
     ]
    }
   ],
   "source": [
    "lower_bound, upper_bound = [-1, -1], [1, 1]\n",
    "results = []\n",
    "EPOCH = 2\n",
    "SAMPLE_BATCH=200\n",
    "\n",
    "for i in range(EPOCH):\n",
    "    print('---------------Epoch: {}---------------'.format(i))\n",
    "    # random choice sample data\n",
    "    random_sample = np.random.choice(data_array.shape[0], SAMPLE_BATCH, replace=True)\n",
    "    random_sample = data_array[random_sample]\n",
    "    # read data from random sample\n",
    "    batch_origin_x = random_sample[:, 0]\n",
    "    batch_origin_y = random_sample[:, 1]\n",
    "    batch_height = random_sample[:, 2]\n",
    "    batch_aspect = random_sample[:, 3]\n",
    "    batch_slope = random_sample[:, 4]\n",
    "    batch_labels = random_sample[:, 5].astype(np.int32)\n",
    "    \n",
    "    args = (batch_origin_x, batch_origin_y, batch_height, batch_aspect, batch_slope, batch_labels)\n",
    "    xopt, fopt = pso(fitness_function, lower_bound, upper_bound, args=args)\n",
    "    # showing temp result\n",
    "    print('Optimized offs: ', xopt)\n",
    "    print('Fopt: ', fopt)\n",
    "    results.append((xopt, fopt))"
   ],
   "metadata": {
    "collapsed": false,
    "ExecuteTime": {
     "end_time": "2023-08-07T09:30:47.600943Z",
     "start_time": "2023-08-07T09:30:26.829793Z"
    }
   },
   "id": "90ce4d87774d508c"
  },
  {
   "cell_type": "code",
   "execution_count": 100,
   "outputs": [
    {
     "name": "stderr",
     "output_type": "stream",
     "text": [
      "/var/folders/r2/bv03lgdn7y58thlc1ntrzgvc0000gn/T/ipykernel_9853/590953463.py:1: VisibleDeprecationWarning: Creating an ndarray from ragged nested sequences (which is a list-or-tuple of lists-or-tuples-or ndarrays with different lengths or shapes) is deprecated. If you meant to do this, you must specify 'dtype=object' when creating the ndarray.\n",
      "  new_results = np.array(results)\n"
     ]
    },
    {
     "data": {
      "text/plain": "array([[array([-0.08525666,  0.14042479]), 0.40352814607014514],\n       [array([-0.00977994, -0.00414468]), 0.3729750182225022]],\n      dtype=object)"
     },
     "execution_count": 100,
     "metadata": {},
     "output_type": "execute_result"
    }
   ],
   "source": [
    "new_results = np.array(results)\n",
    "new_results"
   ],
   "metadata": {
    "collapsed": false,
    "ExecuteTime": {
     "end_time": "2023-08-07T09:31:03.356460Z",
     "start_time": "2023-08-07T09:31:03.348243Z"
    }
   },
   "id": "3b4015f97380f360"
  },
  {
   "cell_type": "code",
   "execution_count": 101,
   "outputs": [
    {
     "data": {
      "text/plain": "[<matplotlib.lines.Line2D at 0x169512af0>]"
     },
     "execution_count": 101,
     "metadata": {},
     "output_type": "execute_result"
    },
    {
     "data": {
      "text/plain": "<Figure size 640x480 with 1 Axes>",
      "image/png": "[encoded data removed]"
     },
     "metadata": {},
     "output_type": "display_data"
    }
   ],
   "source": [
    "plt.plot(new_results[:, 1])"
   ],
   "metadata": {
    "collapsed": false,
    "ExecuteTime": {
     "end_time": "2023-08-07T09:31:04.049713Z",
     "start_time": "2023-08-07T09:31:03.945004Z"
    }
   },
   "id": "a83d4c2f4c3ba584"
  },
  {
   "cell_type": "code",
   "execution_count": 104,
   "outputs": [
    {
     "data": {
      "text/plain": "(array([-0.00977994, -0.00414468]), 0.3729750182225022)"
     },
     "execution_count": 104,
     "metadata": {},
     "output_type": "execute_result"
    }
   ],
   "source": [],
   "metadata": {
    "collapsed": false,
    "ExecuteTime": {
     "end_time": "2023-08-07T09:31:23.348375Z",
     "start_time": "2023-08-07T09:31:23.345148Z"
    }
   },
   "id": "42f0b03fdd07aac1"
  },
  {
   "cell_type": "code",
   "execution_count": null,
   "outputs": [],
   "source": [],
   "metadata": {
    "collapsed": false,
    "ExecuteTime": {
     "start_time": "2023-08-07T09:05:18.195266Z"
    }
   },
   "id": "8baa6228e0eefa88"
  }
 ],
 "metadata": {
  "kernelspec": {
   "display_name": "Python 3",
   "language": "python",
   "name": "python3"
  },
  "language_info": {
   "codemirror_mode": {
    "name": "ipython",
    "version": 2
   },
   "file_extension": ".py",
   "mimetype": "text/x-python",
   "name": "python",
   "nbconvert_exporter": "python",
   "pygments_lexer": "ipython2",
   "version": "2.7.6"
  }
 },
 "nbformat": 4,
 "nbformat_minor": 5
}
