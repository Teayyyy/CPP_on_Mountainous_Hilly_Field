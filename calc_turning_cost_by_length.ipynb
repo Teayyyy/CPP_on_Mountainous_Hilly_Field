{
 "cells": [
  {
   "cell_type": "markdown",
   "source": [
    "## 这是用于计算不同转向方式所需长度的可视化脚本\n",
    "#### 已经计算的长度\n",
    "* #### flat_turn\n",
    "* #### fishtail_turn\n",
    "* #### backward_moving_turn (suspended)"
   ],
   "metadata": {
    "collapsed": false
   }
  },
  {
   "cell_type": "code",
   "execution_count": 96,
   "outputs": [],
   "source": [
    "from CPP_Planner import CPP_Planner_TurningRail_Maker\n",
    "import matplotlib.pyplot as plt\n",
    "import math\n",
    "from math import pi\n",
    "import numpy as np"
   ],
   "metadata": {
    "collapsed": false,
    "ExecuteTime": {
     "end_time": "2023-07-25T17:46:25.493240Z",
     "start_time": "2023-07-25T17:46:25.466026Z"
    }
   }
  },
  {
   "cell_type": "markdown",
   "source": [
    "### 计算 flat turn"
   ],
   "metadata": {
    "collapsed": false
   }
  },
  {
   "cell_type": "code",
   "execution_count": 97,
   "outputs": [],
   "source": [
    "\n",
    "def flat_turn_direc_cost(turning_radius: float, vehicle_length: float, swath_width: float, theta: float, debug=False):\n",
    "    \"\"\"\n",
    "    计算 flat turn 所需的距离\n",
    "    :param turning_radius: 转向半径\n",
    "    :param vehicle_length: 机械长度\n",
    "    :param swath_width: 垄宽\n",
    "    :param theta: 弧度值，地块边界和当前耕作路径正交直线的夹角\n",
    "    :param debug\n",
    "    :return:\n",
    "    \"\"\"\n",
    "    # 不要让 theta 出现 90 度附近接近无穷大的情况，让其在 90 度 +- 20 度之间\n",
    "    if pi/3 < theta < 2 * pi/3:\n",
    "        theta = min(theta, pi/3)\n",
    "    # if pi/3 < theta < 2 * pi/3:\n",
    "    #     theta = min(theta, pi/3)\n",
    "    # 计算使用 flat turn 后能够到达的下一条最近的垄\n",
    "    min_swath_jump = CPP_Planner_TurningRail_Maker.calc_min_swath_jump(turning_radius, swath_width)\n",
    "    min_jump_width = min_swath_jump * swath_width\n",
    "    # 计算两个转向半径之间连接所需的距离--pad\n",
    "    pad = min_jump_width - turning_radius * 2\n",
    "    # 计算两条垄之间对其的距离差\n",
    "    swath_gap = min_jump_width * abs(math.tan(theta))\n",
    "    if debug:\n",
    "        print(\"theta: \", theta)\n",
    "        print(\"min_swath_jump: \", min_swath_jump)\n",
    "        print(\"min_jump_width: \", min_jump_width)\n",
    "        print(\"pad: \", pad)\n",
    "        print(\"swath_gap: \", swath_gap)\n",
    "    # calc all\n",
    "    return pad + swath_gap + pi * turning_radius + vehicle_length"
   ],
   "metadata": {
    "collapsed": false,
    "ExecuteTime": {
     "end_time": "2023-07-25T17:46:25.505435Z",
     "start_time": "2023-07-25T17:46:25.476838Z"
    }
   }
  },
  {
   "cell_type": "code",
   "execution_count": 98,
   "outputs": [
    {
     "name": "stdout",
     "output_type": "stream",
     "text": [
      "theta:  0\n",
      "min_swath_jump:  7.0\n",
      "min_jump_width:  10.15\n",
      "pad:  1.1500000000000004\n",
      "swath_gap:  0.0\n"
     ]
    },
    {
     "data": {
      "text/plain": "19.78716694115407"
     },
     "execution_count": 98,
     "metadata": {},
     "output_type": "execute_result"
    }
   ],
   "source": [
    "flat_turn_direc_cost(4.5, 4.5, 1.45, 0, debug=True)"
   ],
   "metadata": {
    "collapsed": false,
    "ExecuteTime": {
     "end_time": "2023-07-25T17:46:25.538858Z",
     "start_time": "2023-07-25T17:46:25.479979Z"
    }
   }
  },
  {
   "cell_type": "code",
   "execution_count": 107,
   "outputs": [],
   "source": [
    "def fishtail_turn_direc_cost(turning_radius: float, vehicle_length: float, swath_width: float, theta: float, debug=False):\n",
    "    \"\"\"\n",
    "    计算 fishtail turn 所需的距离\n",
    "    :param turning_radius: 转向半径\n",
    "    :param vehicle_length: 机械长度\n",
    "    :param swath_width: 垄宽\n",
    "    :param theta: 弧度值，地块边界和当前耕作路径正交直线的夹角\n",
    "    :param debug\n",
    "    :return:\n",
    "    \"\"\"\n",
    "    # 放置 theta 达到 90，最大设置到 60度就好了\n",
    "    if pi/3 < theta < 2 * pi/3:\n",
    "        theta = min(theta, pi/3)\n",
    "    pad = turning_radius * 2 - swath_width\n",
    "    swath_gap = swath_width * abs(math.tan(theta))\n",
    "    if debug:\n",
    "        print(\"theta: \", theta)\n",
    "        print(\"pad: \", pad)\n",
    "        print(\"swath_gap: \", swath_gap)\n",
    "    return turning_radius * pi + pad + swath_gap + vehicle_length"
   ],
   "metadata": {
    "collapsed": false,
    "ExecuteTime": {
     "end_time": "2023-07-25T17:47:58.294904Z",
     "start_time": "2023-07-25T17:47:58.289814Z"
    }
   }
  },
  {
   "cell_type": "code",
   "execution_count": 108,
   "outputs": [
    {
     "name": "stdout",
     "output_type": "stream",
     "text": [
      "theta:  0\n",
      "pad:  7.55\n",
      "swath_gap:  0.0\n"
     ]
    },
    {
     "data": {
      "text/plain": "26.187166941154068"
     },
     "execution_count": 108,
     "metadata": {},
     "output_type": "execute_result"
    }
   ],
   "source": [
    "fishtail_turn_direc_cost(4.5, 4.5, 1.45, 0, debug=True)"
   ],
   "metadata": {
    "collapsed": false,
    "ExecuteTime": {
     "end_time": "2023-07-25T17:47:58.809664Z",
     "start_time": "2023-07-25T17:47:58.804861Z"
    }
   }
  },
  {
   "cell_type": "markdown",
   "source": [
    "#### 开始分析不同转向方式的路径"
   ],
   "metadata": {
    "collapsed": false
   }
  },
  {
   "cell_type": "code",
   "execution_count": 109,
   "outputs": [
    {
     "name": "stdout",
     "output_type": "stream",
     "text": [
      "[0 1 2 3 4]\n",
      "[0.0, 0.017453292519943295, 0.03490658503988659, 0.05235987755982989, 0.06981317007977318]\n"
     ]
    }
   ],
   "source": [
    "# 从 0 到 180 度\n",
    "degrees = np.arange(0, 180, 1)\n",
    "print(degrees[:5])\n",
    "rads = [math.radians(x) for x in degrees]\n",
    "print(rads[: 5])"
   ],
   "metadata": {
    "collapsed": false,
    "ExecuteTime": {
     "end_time": "2023-07-25T17:47:59.746241Z",
     "start_time": "2023-07-25T17:47:59.738813Z"
    }
   }
  },
  {
   "cell_type": "code",
   "execution_count": 110,
   "outputs": [
    {
     "name": "stdout",
     "output_type": "stream",
     "text": [
      "[19.78716694115407, 19.96433585017548, 20.14161275149531, 20.319105900876938, 20.4969240823807]\n",
      "[26.187166941154068, 26.212476785299984, 26.2378020569171, 26.263158221114477, 26.28856081847216]\n"
     ]
    }
   ],
   "source": [
    "turning_radius = 4.5\n",
    "vehicle_length = 4.5\n",
    "swath_width = 1.45\n",
    "flat_turns = [flat_turn_direc_cost(turning_radius, vehicle_length, swath_width, theta) for theta in rads]\n",
    "fishtail_turns = [fishtail_turn_direc_cost(turning_radius, vehicle_length, swath_width, theta) for theta in rads]\n",
    "print(flat_turns[:5])\n",
    "print(fishtail_turns[:5])"
   ],
   "metadata": {
    "collapsed": false,
    "ExecuteTime": {
     "end_time": "2023-07-25T17:48:00.310354Z",
     "start_time": "2023-07-25T17:48:00.308659Z"
    }
   }
  },
  {
   "cell_type": "markdown",
   "source": [
    "#### 找到两个转向方式距离函数的交点"
   ],
   "metadata": {
    "collapsed": false
   }
  },
  {
   "cell_type": "code",
   "execution_count": 111,
   "outputs": [
    {
     "name": "stdout",
     "output_type": "stream",
     "text": [
      "flat_turns_first_half_min:  36\n",
      "flat_turns_second_half_min:  144\n"
     ]
    }
   ],
   "source": [
    "# 找到 flat_turns fishtail_turns 前半段和后半段分别的最接近的点\n",
    "flat_turns_first_half = np.array(flat_turns[:90])\n",
    "flat_turns_second_half = np.array(flat_turns[90:])\n",
    "fishtail_turns_first_half = np.array(fishtail_turns[:90])\n",
    "fishtail_turns_second_half = np.array(fishtail_turns[90:])\n",
    "\n",
    "first_half_min = abs(flat_turns_first_half - fishtail_turns_first_half)\n",
    "second_half_min = abs(flat_turns_second_half - fishtail_turns_second_half)\n",
    "closest_index_left = np.argmin(first_half_min)\n",
    "closest_index_right = np.argmin(second_half_min) + 90\n",
    "print(\"flat_turns_first_half_min: \", closest_index_left)\n",
    "print(\"flat_turns_second_half_min: \", closest_index_right)"
   ],
   "metadata": {
    "collapsed": false,
    "ExecuteTime": {
     "end_time": "2023-07-25T17:48:05.423896Z",
     "start_time": "2023-07-25T17:48:05.415167Z"
    }
   }
  },
  {
   "cell_type": "code",
   "execution_count": 112,
   "outputs": [
    {
     "data": {
      "text/plain": "<Figure size 640x480 with 1 Axes>",
      "image/png": "[encoded data removed]"
     },
     "metadata": {},
     "output_type": "display_data"
    },
    {
     "name": "stdout",
     "output_type": "stream",
     "text": [
      "turning_radius:  4.5\n",
      "vehicle_length:  4.5\n",
      "swath_width:  1.45\n"
     ]
    }
   ],
   "source": [
    "# 展示到一张图上，颜色前者为红色，后者为蓝色\n",
    "plt.plot(degrees, flat_turns, 'r', degrees, fishtail_turns, 'b')\n",
    "plt.legend(['flat_turn', 'fishtail_turn'])\n",
    "# 画两条竖线，分别在 36 和 144 度\n",
    "plt.axvline(x=closest_index_left, color='g', linestyle='--', linewidth=0.5)\n",
    "plt.axvline(x=closest_index_right, color='g', linestyle='--', linewidth=0.5)\n",
    "plt.title(\"Distance cost of different turning methods\")\n",
    "plt.show()\n",
    "print(\"turning_radius: \", turning_radius)\n",
    "print(\"vehicle_length: \", vehicle_length)\n",
    "print(\"swath_width: \", swath_width)"
   ],
   "metadata": {
    "collapsed": false,
    "ExecuteTime": {
     "end_time": "2023-07-25T17:48:05.944599Z",
     "start_time": "2023-07-25T17:48:05.861337Z"
    }
   }
  },
  {
   "cell_type": "code",
   "execution_count": 113,
   "outputs": [
    {
     "name": "stdout",
     "output_type": "stream",
     "text": [
      "flat_turns_first_half_min:  89\n",
      "flat_turns_second_half_min:  179\n",
      "36\n",
      "54\n"
     ]
    }
   ],
   "source": [
    "# 找到 flat_turns fishtail_turns 前半段和后半段分别的最接近的点\n",
    "flat_turns_first_half = np.array(flat_turns[:90])\n",
    "flat_turns_second_half = np.array(flat_turns[90:])\n",
    "fishtail_turns_first_half = np.array(fishtail_turns[:90])\n",
    "fishtail_turns_second_half = np.array(fishtail_turns[90:])\n",
    "# 找到最接近的点\n",
    "flat_turns_first_half_min = 90\n",
    "flat_turns_first_half_min_index = -1\n",
    "flat_turns_second_half_min = 90\n",
    "flat_turns_second_half_min_index = -1\n",
    "for i in range(90):\n",
    "    flat = flat_turns_first_half[i]\n",
    "    fishtail = fishtail_turns_first_half[i]\n",
    "    # flat_turns_first_half_min = min(abs(fishtail - flat), flat_turns_first_half_min)\n",
    "    if abs(fishtail - flat) < flat_turns_first_half_min:\n",
    "        flat_turns_first_half_min_index = i\n",
    "\n",
    "    flat2 = flat_turns_second_half[i]\n",
    "    fishtail2 = flat_turns_second_half[i]\n",
    "    if abs(flat2 - fishtail2) < flat_turns_second_half_min:\n",
    "        flat_turns_second_half_min_index = i + 90\n",
    "\n",
    "print(\"flat_turns_first_half_min: \", flat_turns_first_half_min_index)\n",
    "print(\"flat_turns_second_half_min: \", flat_turns_second_half_min_index)\n",
    "\n",
    "\n",
    "first_half_min = abs(flat_turns_first_half - fishtail_turns_first_half)\n",
    "second_half_min = abs(flat_turns_second_half - fishtail_turns_second_half)\n",
    "print(np.argmin(first_half_min))\n",
    "print(np.argmin(second_half_min))"
   ],
   "metadata": {
    "collapsed": false,
    "ExecuteTime": {
     "end_time": "2023-07-25T17:48:06.545960Z",
     "start_time": "2023-07-25T17:48:06.540050Z"
    }
   }
  },
  {
   "cell_type": "code",
   "execution_count": 114,
   "outputs": [
    {
     "data": {
      "text/plain": "Text(0.5, 1.0, 'Distance difference between different turning methods')"
     },
     "execution_count": 114,
     "metadata": {},
     "output_type": "execute_result"
    },
    {
     "data": {
      "text/plain": "<Figure size 640x480 with 1 Axes>",
      "image/png": "[encoded data removed]"
     },
     "metadata": {},
     "output_type": "display_data"
    }
   ],
   "source": [
    "# 画一下 first_half_min 和 second_half_min\n",
    "plt.plot(degrees[:90], first_half_min, 'r', degrees[90:], second_half_min, 'b')\n",
    "plt.legend(['First half', 'Second half'])\n",
    "plt.axvline(x=flat_turns_first_half_min_index, color='g', linestyle='--', linewidth=0.5)\n",
    "plt.title(\"Distance difference between different turning methods\")"
   ],
   "metadata": {
    "collapsed": false,
    "ExecuteTime": {
     "end_time": "2023-07-25T17:48:07.086979Z",
     "start_time": "2023-07-25T17:48:07.009328Z"
    }
   }
  },
  {
   "cell_type": "code",
   "execution_count": 106,
   "outputs": [],
   "source": [],
   "metadata": {
    "collapsed": false,
    "ExecuteTime": {
     "end_time": "2023-07-25T17:46:26.199491Z",
     "start_time": "2023-07-25T17:46:26.195526Z"
    }
   }
  }
 ],
 "metadata": {
  "kernelspec": {
   "display_name": "Python 3",
   "language": "python",
   "name": "python3"
  },
  "language_info": {
   "codemirror_mode": {
    "name": "ipython",
    "version": 2
   },
   "file_extension": ".py",
   "mimetype": "text/x-python",
   "name": "python",
   "nbconvert_exporter": "python",
   "pygments_lexer": "ipython2",
   "version": "2.7.6"
  }
 },
 "nbformat": 4,
 "nbformat_minor": 0
}
